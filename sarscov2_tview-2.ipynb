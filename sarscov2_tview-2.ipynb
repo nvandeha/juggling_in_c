{
 "cells": [
  {
   "cell_type": "markdown",
   "id": "45d395ae-04d8-4724-9c0a-3122e78b8abd",
   "metadata": {},
   "source": [
    "# Exploring Early SARS-CoV2 Mutations\n",
    "Read the chapter 23 in my book.\n",
    "\n",
    "In section 23.3.3 we deviate from the book because of Jupyter. Instead of a local Jmol installation we use a web-based version.\n",
    "\n",
    "In section 23.3.4 we are using a different tool, SamTools instead of IGV.\n",
    "\n",
    "<figure style=\"width:50%; display: block; margin-left: auto; margin-right: auto;\">\n",
    "  <img src=\"ace2-spike.png\" alt=\"ace2-spike.png\" >\n",
    "  <figcaption>Mutations in the receptor binding motif have the highest impact on pathogenicity of SARS-CoV-2</figcaption> \n",
    "</figure>\n",
    "\n",
    "---\n",
    "\n",
    "We are working in the directory *SARS-CoV-2*."
   ]
  },
  {
   "cell_type": "code",
   "execution_count": 1,
   "id": "cf13f93a-45bb-4287-a689-367689c139f5",
   "metadata": {},
   "outputs": [
    {
     "name": "stdout",
     "output_type": "stream",
     "text": [
      "/home/jupyter-juggler03/SARS\n"
     ]
    }
   ],
   "source": [
    "pwd"
   ]
  },
  {
   "cell_type": "markdown",
   "id": "49f2deb2-58a2-47e9-a312-ff882713be46",
   "metadata": {},
   "source": [
    "## Download Programs"
   ]
  },
  {
   "cell_type": "markdown",
   "id": "46dbfbc7-a719-45f3-863e-3abf5db7a01c",
   "metadata": {},
   "source": [
    "We need two AWK scripts"
   ]
  },
  {
   "cell_type": "code",
   "execution_count": 2,
   "id": "4e73f82e-b513-491d-a421-520b004727cc",
   "metadata": {},
   "outputs": [
    {
     "name": "stdout",
     "output_type": "stream",
     "text": [
      "bash: cd: /home/wuenschi/notebooks/AngBioInfo_2025/AngBioInfo_2025/: No such file or directory\n",
      "/home/jupyter-juggler03/SARS/SARS-CoV-2\n"
     ]
    }
   ],
   "source": [
    "cd /home/wuenschi/notebooks/AngBioInfo_2025/AngBioInfo_2025/\n",
    "mkdir SARS-CoV-2\n",
    "cd SARS-CoV-2\n",
    "pwd"
   ]
  },
  {
   "cell_type": "code",
   "execution_count": 3,
   "id": "e8173fd1-ad65-42fc-ace0-9ca2505f9d8c",
   "metadata": {},
   "outputs": [
    {
     "name": "stdout",
     "output_type": "stream",
     "text": [
      "--2025-09-23 14:47:53--  https://github.com/awkologist/CompBiol3/raw/main/23_SARS-CoV-2/fasta2tbl\n",
      "Resolving github.com (github.com)... 140.82.121.4\n",
      "Connecting to github.com (github.com)|140.82.121.4|:443... connected.\n",
      "HTTP request sent, awaiting response... 302 Found\n",
      "Location: https://raw.githubusercontent.com/awkologist/CompBiol3/main/23_SARS-CoV-2/fasta2tbl [following]\n",
      "--2025-09-23 14:47:53--  https://raw.githubusercontent.com/awkologist/CompBiol3/main/23_SARS-CoV-2/fasta2tbl\n",
      "Resolving raw.githubusercontent.com (raw.githubusercontent.com)... 185.199.108.133, 185.199.109.133, 185.199.110.133, ...\n",
      "Connecting to raw.githubusercontent.com (raw.githubusercontent.com)|185.199.108.133|:443... connected.\n",
      "HTTP request sent, awaiting response... 200 OK\n",
      "Length: 190 [text/plain]\n",
      "Saving to: ‘fasta2tbl’\n",
      "\n",
      "fasta2tbl           100%[===================>]     190  --.-KB/s    in 0s      \n",
      "\n",
      "2025-09-23 14:47:53 (14.2 MB/s) - ‘fasta2tbl’ saved [190/190]\n",
      "\n"
     ]
    }
   ],
   "source": [
    "wget 'https://github.com/awkologist/CompBiol3/raw/main/23_SARS-CoV-2/fasta2tbl'"
   ]
  },
  {
   "cell_type": "markdown",
   "id": "ad606859-365c-4e23-9525-c3083bc04b3b",
   "metadata": {},
   "source": [
    "Make the file executable ..."
   ]
  },
  {
   "cell_type": "code",
   "execution_count": 4,
   "id": "b82e4a5e-a52d-4a3f-b798-e90cd167e14e",
   "metadata": {},
   "outputs": [],
   "source": [
    "chmod u+x ./fasta2tbl"
   ]
  },
  {
   "cell_type": "code",
   "execution_count": 5,
   "id": "74bd241f-944f-40ad-a881-eeea86aad7dd",
   "metadata": {},
   "outputs": [
    {
     "name": "stdout",
     "output_type": "stream",
     "text": [
      "--2025-09-23 14:48:02--  https://github.com/awkologist/CompBiol3/raw/main/23_SARS-CoV-2/compare-cov2.awk\n",
      "Resolving github.com (github.com)... 140.82.121.4\n",
      "Connecting to github.com (github.com)|140.82.121.4|:443... connected.\n",
      "HTTP request sent, awaiting response... 302 Found\n",
      "Location: https://raw.githubusercontent.com/awkologist/CompBiol3/main/23_SARS-CoV-2/compare-cov2.awk [following]\n",
      "--2025-09-23 14:48:02--  https://raw.githubusercontent.com/awkologist/CompBiol3/main/23_SARS-CoV-2/compare-cov2.awk\n",
      "Resolving raw.githubusercontent.com (raw.githubusercontent.com)... 185.199.109.133, 185.199.110.133, 185.199.108.133, ...\n",
      "Connecting to raw.githubusercontent.com (raw.githubusercontent.com)|185.199.109.133|:443... connected.\n",
      "HTTP request sent, awaiting response... 200 OK\n",
      "Length: 2860 (2.8K) [text/plain]\n",
      "Saving to: ‘compare-cov2.awk’\n",
      "\n",
      "compare-cov2.awk    100%[===================>]   2.79K  --.-KB/s    in 0s      \n",
      "\n",
      "2025-09-23 14:48:03 (52.2 MB/s) - ‘compare-cov2.awk’ saved [2860/2860]\n",
      "\n"
     ]
    }
   ],
   "source": [
    "wget 'https://github.com/awkologist/CompBiol3/raw/main/23_SARS-CoV-2/compare-cov2.awk'"
   ]
  },
  {
   "cell_type": "markdown",
   "id": "581a7405-b16b-4197-aae2-5162f2cbd588",
   "metadata": {},
   "source": [
    "## Download Virus Sequences"
   ]
  },
  {
   "cell_type": "markdown",
   "id": "aaf55e66-397e-47ec-a30f-b460b26756e8",
   "metadata": {},
   "source": [
    "Download reference genome:"
   ]
  },
  {
   "cell_type": "code",
   "execution_count": 6,
   "id": "f97d86d8-8de8-43ef-ab2f-0976941223df",
   "metadata": {},
   "outputs": [],
   "source": [
    "efetch -db nuccore -id NC_045512 -format fasta > wuhan-1.fasta"
   ]
  },
  {
   "cell_type": "markdown",
   "id": "8bc4bd91-e80c-427f-811b-6854606431c8",
   "metadata": {},
   "source": [
    "We create a copy in tab-delimited format:"
   ]
  },
  {
   "cell_type": "code",
   "execution_count": 7,
   "id": "e3a5c691-06f2-4852-9d23-b043154e57d7",
   "metadata": {},
   "outputs": [],
   "source": [
    "./fasta2tbl wuhan-1.fasta > wuhan-1.tab"
   ]
  },
  {
   "cell_type": "markdown",
   "id": "eeaf5068-27a5-4a0c-af57-8249381bbf61",
   "metadata": {},
   "source": [
    "Download from [NCBI](https://www.ncbi.nlm.nih.gov/sars-cov-2/) viruses from Europe, from human hosts, without ambigious characters, complete nucleotide sequences, and a sequence length of exactly 29,903 nt. They are downloaded via the web browser as *sequences.fasta*. Move them into your current working directory.\n",
    "\n",
    "Detailed instruction are in chapter \"**23.2.3 Data and GitHub Repository**\"\n",
    "\n",
    "Move the file (ca 100 MB) from your local computer to JuypterHub. It takes a while – check in the GitHub file browser if the complete file has been uploaded."
   ]
  },
  {
   "cell_type": "markdown",
   "id": "835df77f-7df0-485b-9933-03f3fb65c9d6",
   "metadata": {},
   "source": [
    "Here we print the header for the reference genome:"
   ]
  },
  {
   "cell_type": "code",
   "execution_count": 8,
   "id": "a6bb24c6-ae29-437b-877c-6d5dc3cb2450",
   "metadata": {},
   "outputs": [
    {
     "name": "stdout",
     "output_type": "stream",
     "text": [
      "NC_045512.2 Severe acute respiratory syndrome coronavirus 2 isolate Wuhan-Hu-1, complete genome\n",
      "NC_045512.2 Severe acute respiratory syndrome coronavirus 2 isolate Wuhan-Hu-1, complete genome\n"
     ]
    }
   ],
   "source": [
    "cut -f 1 wuhan-1.tab\n",
    "awk -F\"\\t\" '{print $1}' ./wuhan-1.tab"
   ]
  },
  {
   "cell_type": "markdown",
   "id": "47d4b67b-b7ec-43cc-9afa-1fbeb8a1d9c2",
   "metadata": {},
   "source": [
    "Rename the file to *cov2-len-29903.fasta*"
   ]
  },
  {
   "cell_type": "code",
   "execution_count": 11,
   "id": "ec84e372-39b3-4963-859a-faf9e63269a3",
   "metadata": {},
   "outputs": [],
   "source": [
    "mv sequences.fasta cov2-len-29903.fasta"
   ]
  },
  {
   "cell_type": "code",
   "execution_count": 10,
   "id": "14fc4dac-3bc9-4b89-b280-63d19cb5d8b5",
   "metadata": {},
   "outputs": [
    {
     "name": "stdout",
     "output_type": "stream",
     "text": [
      "/home/jupyter-juggler03/SARS/SARS-CoV-2\n"
     ]
    }
   ],
   "source": [
    "pwd"
   ]
  },
  {
   "cell_type": "code",
   "execution_count": 12,
   "id": "8f6bd928-408d-4a6e-a5f7-c6d1264dfb5a",
   "metadata": {},
   "outputs": [
    {
     "name": "stdout",
     "output_type": "stream",
     "text": [
      "3375\n"
     ]
    }
   ],
   "source": [
    "grep -c \">\" cov2-len-29903.fasta"
   ]
  },
  {
   "cell_type": "markdown",
   "id": "126c0e9f-ff29-4cdf-acfb-a5387f9593c6",
   "metadata": {},
   "source": [
    "## Convert FASTA to TAB and Edit Header"
   ]
  },
  {
   "cell_type": "code",
   "execution_count": 13,
   "id": "14a152a9-e4af-4b07-8062-b17bb065b14e",
   "metadata": {},
   "outputs": [
    {
     "name": "stdout",
     "output_type": "stream",
     "text": [
      ">PV612058.1 |2020-04-02|Sweden\n"
     ]
    }
   ],
   "source": [
    "head -1 cov2-len-29903.fasta"
   ]
  },
  {
   "cell_type": "code",
   "execution_count": 14,
   "id": "8ae3e319-a2d8-4966-8d25-382e9c37faf8",
   "metadata": {},
   "outputs": [],
   "source": [
    "./fasta2tbl cov2-len-29903.fasta | sed 's/|/\\t/g' > cov2-len-29903.tab"
   ]
  },
  {
   "cell_type": "code",
   "execution_count": 15,
   "id": "c52a8f3f-f15e-4afb-bc0f-8b6e0914da22",
   "metadata": {},
   "outputs": [
    {
     "name": "stdout",
     "output_type": "stream",
     "text": [
      "3375 cov2-len-29903.tab\n"
     ]
    }
   ],
   "source": [
    "wc -l cov2-len-29903.tab"
   ]
  },
  {
   "cell_type": "code",
   "execution_count": 16,
   "id": "4cdf35b2-577e-44a3-88fc-e219cc91e604",
   "metadata": {},
   "outputs": [
    {
     "name": "stdout",
     "output_type": "stream",
     "text": [
      "PV612058.1 \n",
      "PV612059.1 \n"
     ]
    }
   ],
   "source": [
    "cut -f 1 cov2-len-29903.tab | head -2"
   ]
  },
  {
   "cell_type": "code",
   "execution_count": 17,
   "id": "dc0d5dfa-7e28-4f14-88ec-7ed512a78c4e",
   "metadata": {},
   "outputs": [
    {
     "name": "stdout",
     "output_type": "stream",
     "text": [
      "PV612058.1 \tSweden\n",
      "PV612059.1 \tSweden\n"
     ]
    }
   ],
   "source": [
    "cut -f 1,3 cov2-len-29903.tab | head -2"
   ]
  },
  {
   "cell_type": "code",
   "execution_count": 18,
   "id": "32fc7120-24e2-4120-83be-1e8ef23f8d31",
   "metadata": {},
   "outputs": [
    {
     "name": "stdout",
     "output_type": "stream",
     "text": [
      "PV612058.1 \t2020-04-02\tSweden\n",
      "PV612059.1 \t2020-04-03\tSweden\n"
     ]
    }
   ],
   "source": [
    "cut -f 1-3 cov2-len-29903.tab | head -2"
   ]
  },
  {
   "cell_type": "markdown",
   "id": "a1664179-e592-4842-81ba-13781b80e01a",
   "metadata": {},
   "source": [
    "## Analyze Data"
   ]
  },
  {
   "cell_type": "code",
   "execution_count": 19,
   "id": "735bac34-ca2f-4ae2-9bc6-f270f5bb3b52",
   "metadata": {},
   "outputs": [
    {
     "name": "stdout",
     "output_type": "stream",
     "text": [
      "      1 \n",
      "    142 2020\n",
      "      6 2020-02\n",
      "     80 2020-03\n",
      "      1 2020-03-06\n",
      "      1 2020-03-09\n",
      "      2 2020-03-10\n",
      "      1 2020-03-11\n",
      "      1 2020-03-13\n",
      "      1 2020-03-16\n",
      "      1 2020-03-17\n",
      "      2 2020-03-18\n",
      "      3 2020-03-19\n",
      "      4 2020-03-20\n",
      "      2 2020-03-21\n",
      "      1 2020-03-22\n",
      "      7 2020-03-23\n",
      "      7 2020-03-24\n",
      "      1 2020-03-25\n",
      "      3 2020-03-27\n",
      "      1 2020-03-28\n",
      "      5 2020-03-29\n",
      "      3 2020-03-30\n",
      "      7 2020-03-31\n",
      "      4 2020-04-01\n",
      "      6 2020-04-02\n",
      "      4 2020-04-03\n",
      "      3 2020-04-04\n",
      "     11 2020-04-05\n",
      "      5 2020-04-06\n",
      "      9 2020-04-07\n",
      "     14 2020-04-08\n",
      "      4 2020-04-09\n",
      "      1 2020-04-10\n",
      "      1 2020-04-12\n",
      "      4 2020-04-13\n",
      "      5 2020-04-14\n",
      "     10 2020-04-15\n",
      "      6 2020-04-16\n",
      "      9 2020-04-17\n",
      "     10 2020-04-18\n",
      "      3 2020-04-19\n",
      "     12 2020-04-20\n",
      "      7 2020-04-21\n",
      "      3 2020-04-22\n",
      "      4 2020-04-23\n",
      "      5 2020-04-25\n",
      "      1 2020-04-26\n",
      "      1 2020-04-27\n",
      "      1 2020-04-28\n",
      "      2 2020-04-29\n",
      "      5 2020-04-30\n",
      "      3 2020-05-01\n",
      "      3 2020-05-02\n",
      "      4 2020-05-03\n",
      "      1 2020-05-06\n",
      "      1 2020-05-07\n",
      "      1 2020-05-08\n",
      "      1 2020-05-11\n",
      "      1 2020-05-15\n",
      "      1 2020-05-18\n",
      "      1 2020-05-20\n",
      "      1 2020-05-26\n",
      "      1 2020-06-17\n",
      "      1 2020-07-15\n",
      "      1 2020-07-17\n",
      "      1 2020-08-14\n",
      "      1 2020-08-23\n",
      "      1 2020-08-24\n",
      "      1 2020-08-25\n",
      "     15 2020-08-27\n",
      "     66 2020-08-28\n",
      "      8 2020-08-29\n",
      "     16 2020-08-30\n",
      "     31 2020-08-31\n",
      "      8 2020-09-01\n",
      "     11 2020-09-02\n",
      "     36 2020-09-03\n",
      "     17 2020-09-04\n",
      "     20 2020-09-05\n",
      "      1 2020-09-06\n",
      "     39 2020-09-07\n",
      "     16 2020-09-08\n",
      "     83 2020-09-09\n",
      "     14 2020-09-10\n",
      "      2 2020-09-15\n",
      "      6 2020-09-17\n",
      "    150 2020-09-18\n",
      "     19 2020-09-19\n",
      "      6 2020-09-20\n",
      "     10 2020-09-21\n",
      "      1 2020-09-22\n",
      "     12 2020-09-23\n",
      "     18 2020-09-24\n",
      "     18 2020-09-25\n",
      "      9 2020-09-26\n",
      "     76 2020-09-27\n",
      "      3 2020-09-28\n",
      "      7 2020-09-29\n",
      "     12 2020-09-30\n",
      "      4 2020-10-01\n",
      "      3 2020-10-02\n",
      "      9 2020-10-03\n",
      "      9 2020-10-04\n",
      "     76 2020-10-05\n",
      "     26 2020-10-06\n",
      "     28 2020-10-07\n",
      "     39 2020-10-08\n",
      "      3 2020-10-09\n",
      "     16 2020-10-10\n",
      "     19 2020-10-11\n",
      "    100 2020-10-12\n",
      "     39 2020-10-13\n",
      "     51 2020-10-14\n",
      "     22 2020-10-15\n",
      "     74 2020-10-16\n",
      "     15 2020-10-17\n",
      "     12 2020-10-18\n",
      "     30 2020-10-19\n",
      "     42 2020-10-20\n",
      "    129 2020-10-21\n",
      "     55 2020-10-22\n",
      "      2 2020-10-23\n",
      "      1 2020-10-24\n",
      "      5 2020-10-25\n",
      "      2 2020-10-26\n",
      "      1 2020-10-27\n",
      "      1 2020-10-28\n",
      "      4 2020-10-29\n",
      "     12 2020-10-30\n",
      "     30 2020-10-31\n",
      "    192 2020-11-01\n",
      "    119 2020-11-02\n",
      "      3 2020-11-03\n",
      "      3 2020-11-04\n",
      "     11 2020-11-05\n",
      "     64 2020-11-06\n",
      "      6 2020-11-07\n",
      "      9 2020-11-08\n",
      "     38 2020-11-09\n",
      "     13 2020-11-10\n",
      "     11 2020-11-11\n",
      "    216 2020-11-12\n",
      "     50 2020-11-13\n",
      "    134 2020-11-14\n",
      "      3 2020-11-15\n",
      "     12 2020-11-16\n",
      "     15 2020-11-17\n",
      "      4 2020-11-18\n",
      "     18 2020-11-19\n",
      "      6 2020-11-20\n",
      "      2 2020-11-21\n",
      "      9 2020-11-22\n",
      "      6 2020-11-23\n",
      "     12 2020-11-24\n",
      "      2 2020-11-25\n",
      "      8 2020-11-27\n",
      "      3 2020-11-28\n",
      "      3 2020-11-29\n",
      "      2 2020-11-30\n",
      "      3 2020-12-01\n",
      "      2 2020-12-02\n",
      "      1 2020-12-07\n",
      "      7 2020-12-08\n",
      "      6 2020-12-09\n",
      "      3 2020-12-11\n",
      "      2 2020-12-12\n",
      "      5 2020-12-13\n",
      "     15 2020-12-14\n",
      "     15 2020-12-15\n",
      "     25 2020-12-16\n",
      "     16 2020-12-17\n",
      "     17 2020-12-18\n",
      "     17 2020-12-19\n",
      "      9 2020-12-20\n",
      "     19 2020-12-21\n",
      "     15 2020-12-22\n",
      "     10 2020-12-23\n",
      "      1 2020-12-24\n",
      "      7 2020-12-27\n",
      "      9 2020-12-28\n",
      "     19 2020-12-29\n",
      "      5 2020-12-30\n",
      "      7 2020-12-31\n",
      "     15 2021-01-02\n",
      "      6 2021-01-03\n",
      "     11 2021-01-04\n",
      "      9 2021-01-05\n",
      "      9 2021-01-06\n",
      "      4 2021-01-07\n",
      "     10 2021-01-08\n",
      "      2 2021-01-09\n",
      "      5 2021-01-10\n",
      "      4 2021-01-11\n",
      "      7 2021-01-12\n",
      "      2 2021-01-13\n",
      "      1 2021-01-14\n",
      "      1 2021-01-15\n",
      "      4 2021-01-16\n",
      "      3 2021-01-18\n",
      "      3 2021-01-19\n",
      "      7 2021-01-20\n",
      "      2 2021-01-22\n",
      "      1 2021-01-23\n",
      "      1 2021-01-25\n",
      "      1 2021-01-27\n",
      "      2 2021-01-28\n",
      "      3 2021-01-29\n",
      "      1 2021-01-30\n",
      "      1 2021-01-31\n",
      "      1 2021-02-01\n",
      "      1 2021-02-09\n",
      "      1 2021-02-27\n",
      "      1 2021-03-01\n"
     ]
    }
   ],
   "source": [
    "cut -f 2 cov2-len-29903.tab | sed 's/:.*//' | sort | uniq -c \n",
    "# cut -f 2 cov2-len-29903.tab | sort | uniq -c "
   ]
  },
  {
   "cell_type": "code",
   "execution_count": 20,
   "id": "b832f5c3-6222-4866-8cd9-e835e89d0e8d",
   "metadata": {},
   "outputs": [
    {
     "name": "stdout",
     "output_type": "stream",
     "text": [
      "OK075090.1 \t2021-01-08\tGermany: Langen\n",
      "MT358638.1 \t2020-02\tGermany\n",
      "MT358639.1 \t2020-02\tGermany\n",
      "MT358640.1 \t2020-02\tGermany\n",
      "MT358641.1 \t2020-02\tGermany\n",
      "MT358642.1 \t2020-02\tGermany\n",
      "MT358643.1 \t2020-02\tGermany\n"
     ]
    }
   ],
   "source": [
    "egrep \"Germany\" cov2-len-29903.tab | cut -f 1-3"
   ]
  },
  {
   "cell_type": "code",
   "execution_count": 21,
   "id": "978625c2-58a6-4021-9411-b49a0552ba55",
   "metadata": {},
   "outputs": [
    {
     "name": "stdout",
     "output_type": "stream",
     "text": [
      "# Compared: NC_045512.2 vs MT358638.1  | 12/2019 vs Germany | Wuhan vs 2020-02\n",
      "MT358638.1  3518: G>T \n",
      "MT358638.1  12704: G>T \n",
      "MT358638.1  12797: G>A \n",
      "MT358638.1  17423: A>G \n",
      "MT358638.1  27272: T>C \n",
      "MT358638.1  28854: C>T \n",
      "# of N's: 0 of 29903\n",
      "# of exchanges: 6 of 29903\n"
     ]
    }
   ],
   "source": [
    "awk -f compare-cov2.awk -v ref=wuhan-1.tab -v seq=cov2-len-29903.tab -v id2=MT358638"
   ]
  },
  {
   "cell_type": "code",
   "execution_count": 22,
   "id": "939e0dd6-d738-4972-97a9-4dc22044c0b5",
   "metadata": {},
   "outputs": [
    {
     "name": "stdout",
     "output_type": "stream",
     "text": [
      "# Compared: NC_045512.2 vs MT358638.1  | 12/2019 vs Germany | Wuhan vs 2020-02\n",
      "MT358638.1  3518: G>T \n",
      "MT358638.1  12704: G>T \n",
      "MT358638.1  12797: G>A \n",
      "MT358638.1  17423: A>G \n",
      "MT358638.1  27272: T>C \n",
      "MT358638.1  28854: C>T \n",
      "# of N's: 0 of 29903\n",
      "# of exchanges: 6 of 29903\n",
      "# Compared: NC_045512.2 vs MT358639.1  | 12/2019 vs Germany | Wuhan vs 2020-02\n",
      "MT358639.1  241: C>T \n",
      "MT358639.1  3037: C>T \n",
      "MT358639.1  14408: C>T \n",
      "MT358639.1  23403: A>G SPIKE NT:1841 AA:614 -> D\n",
      "MT358639.1  28881: G>A \n",
      "MT358639.1  28882: G>A \n",
      "MT358639.1  28883: G>C \n",
      "# of N's: 0 of 29903\n",
      "# of exchanges: 7 of 29903\n",
      "# Compared: NC_045512.2 vs MT358640.1  | 12/2019 vs Germany | Wuhan vs 2020-02\n",
      "MT358640.1  241: C>T \n",
      "MT358640.1  3037: C>T \n",
      "MT358640.1  6228: A>G \n",
      "MT358640.1  14408: C>T \n",
      "MT358640.1  16289: C>Y \n",
      "MT358640.1  23403: A>G SPIKE NT:1841 AA:614 -> D\n",
      "MT358640.1  28881: G>A \n",
      "MT358640.1  28882: G>A \n",
      "MT358640.1  28883: G>C \n",
      "MT358640.1  28961: C>T \n",
      "MT358640.1  29870: C>M \n",
      "# of N's: 0 of 29903\n",
      "# of exchanges: 11 of 29903\n",
      "# Compared: NC_045512.2 vs MT358641.1  | 12/2019 vs Germany | Wuhan vs 2020-02\n",
      "MT358641.1  1440: G>A \n",
      "MT358641.1  2891: G>A \n",
      "MT358641.1  23235: A>G SPIKE NT:1673 AA:558 -> K\n",
      "# of N's: 0 of 29903\n",
      "# of exchanges: 3 of 29903\n",
      "# Compared: NC_045512.2 vs MT358642.1  | 12/2019 vs Germany | Wuhan vs 2020-02\n",
      "MT358642.1  241: C>T \n",
      "MT358642.1  3037: C>T \n",
      "MT358642.1  6228: A>G \n",
      "MT358642.1  14408: C>T \n",
      "MT358642.1  23403: A>G SPIKE NT:1841 AA:614 -> D\n",
      "MT358642.1  28881: G>A \n",
      "MT358642.1  28882: G>A \n",
      "MT358642.1  28883: G>C \n",
      "MT358642.1  29870: C>M \n",
      "# of N's: 0 of 29903\n",
      "# of exchanges: 9 of 29903\n",
      "# Compared: NC_045512.2 vs MT358643.1  | 12/2019 vs Germany | Wuhan vs 2020-02\n",
      "MT358643.1  241: C>T \n",
      "MT358643.1  3037: C>T \n",
      "MT358643.1  14408: C>T \n",
      "MT358643.1  15324: C>T \n",
      "MT358643.1  23179: C>Y SPIKE NT:1617 AA:540 -> N RBDomain\n",
      "MT358643.1  23403: A>G SPIKE NT:1841 AA:614 -> D\n",
      "# of N's: 0 of 29903\n",
      "# of exchanges: 6 of 29903\n"
     ]
    }
   ],
   "source": [
    "for i in MT358638 MT358639 MT358640 MT358641 MT358642 MT358643; do awk -f compare-cov2.awk -v ref=wuhan-1.tab -v seq=cov2-len-29903.tab -v id2=$i; done"
   ]
  },
  {
   "cell_type": "code",
   "execution_count": 23,
   "id": "00c5bdb9-c029-4230-914c-bfa61075b3b4",
   "metadata": {},
   "outputs": [
    {
     "name": "stdout",
     "output_type": "stream",
     "text": [
      "# Compared: NC_045512.2 vs OK075090.1  | 12/2019 vs Germany: Langen | Wuhan vs 2021-01-08\n",
      "OK075090.1  241: C>T \n",
      "OK075090.1  1059: C>T \n",
      "OK075090.1  3037: C>T \n",
      "OK075090.1  5143: T>G \n",
      "OK075090.1  7843: C>T \n",
      "OK075090.1  14408: C>T \n",
      "OK075090.1  15920: T>C \n",
      "OK075090.1  21846: C>T SPIKE NT:284 AA:95 -> T\n",
      "OK075090.1  22296: A>G SPIKE NT:734 AA:245 -> H\n",
      "OK075090.1  23403: A>G SPIKE NT:1841 AA:614 -> D\n",
      "OK075090.1  23618: A>G SPIKE NT:2056 AA:686 -> S\n",
      "OK075090.1  26895: C>T \n",
      "OK075090.1  27996: G>T \n",
      "OK075090.1  28044: G>T \n",
      "OK075090.1  29769: C>T \n",
      "# of N's: 0 of 29903\n",
      "# of exchanges: 15 of 29903\n"
     ]
    }
   ],
   "source": [
    "awk -f compare-cov2.awk -v ref=wuhan-1.tab -v seq=cov2-len-29903.tab -v id2=OK075090"
   ]
  },
  {
   "cell_type": "code",
   "execution_count": 24,
   "id": "d426a855-6549-4402-90d1-ab21acd06e53",
   "metadata": {},
   "outputs": [],
   "source": [
    "# mit head -50 werden statt allen (ca 3.000) nur 50 Sequenzen bearbeitet\n",
    "for i in $(cut -f 1 cov2-len-29903.tab | head -50 | sed 's/\\..*//'); do awk -f compare-cov2.awk -v ref=wuhan-1.tab -v seq=cov2-len-29903.tab -v id2=$i; done > result.txt"
   ]
  },
  {
   "cell_type": "code",
   "execution_count": 25,
   "id": "6cd73573-74fb-4930-8b86-43f13470178a",
   "metadata": {},
   "outputs": [
    {
     "name": "stdout",
     "output_type": "stream",
     "text": [
      "802\n"
     ]
    }
   ],
   "source": [
    "egrep -c \">\" result.txt"
   ]
  },
  {
   "cell_type": "code",
   "execution_count": 26,
   "id": "00f0181c-d651-456f-b3f9-7a36a1c6af60",
   "metadata": {},
   "outputs": [
    {
     "name": "stdout",
     "output_type": "stream",
     "text": [
      "130\n"
     ]
    }
   ],
   "source": [
    "egrep -c \"SPIKE\" result.txt"
   ]
  },
  {
   "cell_type": "code",
   "execution_count": 27,
   "id": "000e5474-ed33-46b3-975b-7799d7779106",
   "metadata": {},
   "outputs": [
    {
     "name": "stdout",
     "output_type": "stream",
     "text": [
      "4\n"
     ]
    }
   ],
   "source": [
    "egrep -c \"Motif\" result.txt"
   ]
  },
  {
   "cell_type": "code",
   "execution_count": 28,
   "id": "dc361887-699f-4f64-b633-c4f39fbe34c8",
   "metadata": {},
   "outputs": [
    {
     "name": "stdout",
     "output_type": "stream",
     "text": [
      "OX648044.1  22879: C>A SPIKE NT:1317 AA:440 -> N RBDomain RBMotif\n",
      "OX648046.1  22992: G>A SPIKE NT:1430 AA:477 -> S RBDomain RBMotif\n",
      "OX648346.1  22992: G>A SPIKE NT:1430 AA:477 -> S RBDomain RBMotif\n",
      "OX648371.1  22992: G>A SPIKE NT:1430 AA:477 -> S RBDomain RBMotif\n"
     ]
    }
   ],
   "source": [
    "egrep \"Motif\" result.txt | head -5"
   ]
  },
  {
   "cell_type": "code",
   "execution_count": 29,
   "id": "141d1068-5aae-4b62-9b63-43effe797dc0",
   "metadata": {},
   "outputs": [
    {
     "name": "stdout",
     "output_type": "stream",
     "text": [
      "      1 AA:440\n",
      "      3 AA:477\n",
      "\n",
      "AA:440\n",
      "AA:477\n",
      "AA:477\n",
      "AA:477\n"
     ]
    }
   ],
   "source": [
    "egrep \"Motif\" result.txt | cut -d ' ' -f 7 | sort | uniq -c\n",
    "echo\n",
    "egrep \"Motif\" result.txt | cut -d ' ' -f 7 "
   ]
  },
  {
   "attachments": {},
   "cell_type": "markdown",
   "id": "654f7c27-aefe-4456-8dd6-43ff28cf33dc",
   "metadata": {},
   "source": [
    "Goto an online version of [Jmol](https://lampz.tugraz.at/~hadley/ss1/molecules/moleculeviewer/viewer.php) in your browser of choice. There you can open the Jmol terminal as shown in this video:\n",
    "\n",
    "<figure style=\"width:50%; display: block; margin-left: auto; margin-right: auto;\">\n",
    "  <img src=\"jmol_im_www.gif\" alt=\"jmol_im_www.gif\" >\n",
    "  <figcaption>Using the online version of Jmol.</figcaption>\n",
    "</figure>\n",
    "\n",
    "Copy/paste the following code into the Jmol terminal "
   ]
  },
  {
   "cell_type": "markdown",
   "id": "dc7bd9fe-981d-4474-a547-595b597f3d85",
   "metadata": {},
   "source": [
    "```\n",
    "load =7DF4\n",
    "spacefill off; wireframe off\n",
    "cartoon\n",
    "select :A; color lightgray # ACE2\n",
    "select :C; color gray # Spike 2\n",
    "select :D; color darkgray # Spike 3\n",
    "select :B; color lightblue # Spike 1\n",
    "select 319-541:B; color blue # RBDomain\n",
    "select 437-508:B; color red # RBMotif\n",
    "```"
   ]
  },
  {
   "cell_type": "markdown",
   "id": "9223ea7f-e585-4f82-a6b6-ec061990b7a0",
   "metadata": {},
   "source": [
    "Open the PDB structure 7DF4 with the above script directly in [jmol.php](https://chemapps.stolaf.edu/jmol/jmol.php?pdbid=7df4&script=wireframe&nbsp;off;spacefill&nbsp;off;cartoon;select&nbsp;:A;color&nbsp;lightgray;select&nbsp;:C;color&nbsp;gray;select&nbsp;:D;color&nbsp;darkgray;select&nbsp;:B;color&nbsp;lightblue;select&nbsp;319-541:B;color&nbsp;blue;select&nbsp;437-508:B;color&nbsp;red)\n",
    "\n",
    "Note to myself: Spaces are replaed by ```&nbsp;``` // No space behind semicolon // No comments"
   ]
  },
  {
   "cell_type": "code",
   "execution_count": 30,
   "id": "37e36ba0-ead8-4d9c-a13b-e9d430b34ff8",
   "metadata": {},
   "outputs": [
    {
     "name": "stdout",
     "output_type": "stream",
     "text": [
      "select 440:B; spacefill 100; color yellow\n",
      "select 477:B; spacefill 100; color yellow\n"
     ]
    }
   ],
   "source": [
    "egrep \"Motif\" result.txt | awk '{print $6}' | sort | uniq -c | sed 's/:/ /' | awk '{if($1<10){print \"select \"$3\":B; spacefill 100; color yellow\"}else{print \"select \"$3\":B; spacefill 300; color yellow\"}}' | tee -a 7DF4.script"
   ]
  },
  {
   "cell_type": "markdown",
   "id": "21d45669-3254-45a6-8c59-4dd7e002f675",
   "metadata": {},
   "source": [
    "You can now add these Jmol commands to the Jmol terminal and execute them."
   ]
  },
  {
   "cell_type": "markdown",
   "id": "48ac4f29-6891-44e8-9077-ca7dcea7bc62",
   "metadata": {},
   "source": [
    "## Mapping Genomic Variance"
   ]
  },
  {
   "cell_type": "code",
   "execution_count": 34,
   "id": "180fd043-45e0-4161-8df3-96fc525c9fd3",
   "metadata": {},
   "outputs": [
    {
     "name": "stdout",
     "output_type": "stream",
     "text": [
      "--2025-09-23 15:07:10--  https://github.com/lh3/minimap2/releases/latest/download/minimap2\n",
      "Resolving github.com (github.com)... 140.82.121.3\n",
      "Connecting to github.com (github.com)|140.82.121.3|:443... connected.\n",
      "HTTP request sent, awaiting response... 302 Found\n",
      "Location: https://github.com/lh3/minimap2/releases/download/v2.30/minimap2 [following]\n",
      "--2025-09-23 15:07:10--  https://github.com/lh3/minimap2/releases/download/v2.30/minimap2\n",
      "Reusing existing connection to github.com:443.\n",
      "HTTP request sent, awaiting response... 404 Not Found\n",
      "2025-09-23 15:07:10 ERROR 404: Not Found.\n",
      "\n"
     ]
    },
    {
     "ename": "",
     "evalue": "8",
     "output_type": "error",
     "traceback": []
    }
   ],
   "source": [
    "wget https://github.com/lh3/minimap2/releases/latest/download/minimap2"
   ]
  },
  {
   "cell_type": "code",
   "execution_count": 35,
   "id": "3f98d186-0475-4b6a-a5c2-8b65184f3ca2",
   "metadata": {},
   "outputs": [
    {
     "name": "stdout",
     "output_type": "stream",
     "text": [
      "chmod: cannot access 'minimap2': No such file or directory\n"
     ]
    },
    {
     "ename": "",
     "evalue": "1",
     "output_type": "error",
     "traceback": []
    }
   ],
   "source": [
    "chmod +x minimap2"
   ]
  },
  {
   "cell_type": "code",
   "execution_count": 36,
   "id": "fccf286f-5f70-40ba-80c5-55632f752615",
   "metadata": {},
   "outputs": [
    {
     "name": "stdout",
     "output_type": "stream",
     "text": [
      "sudo: The \"no new privileges\" flag is set, which prevents sudo from running as root.\n",
      "sudo: If sudo is running in a container, you may need to adjust the container configuration to disable the flag.\n"
     ]
    },
    {
     "ename": "",
     "evalue": "1",
     "output_type": "error",
     "traceback": []
    }
   ],
   "source": [
    "sudo apt install minimap2"
   ]
  },
  {
   "cell_type": "code",
   "execution_count": 37,
   "id": "1db2529f-b242-4b0b-83be-badcc4fb86b5",
   "metadata": {},
   "outputs": [
    {
     "name": "stdout",
     "output_type": "stream",
     "text": [
      "[M::mm_idx_gen::0.001*1.52] collected minimizers\n",
      "[M::mm_idx_gen::0.002*1.22] sorted minimizers\n",
      "[M::main::0.002*1.22] loaded/built the index for 1 target sequence(s)\n",
      "[M::mm_mapopt_update::0.002*1.20] mid_occ = 50\n",
      "[M::mm_idx_stat] kmer size: 19; skip: 19; is_hpc: 0; #seq: 1\n",
      "[M::mm_idx_stat::0.002*1.19] distinct minimizers: 3006 (100.00% are singletons); average occurrences: 1.000; average spacing: 9.948; total length: 29903\n",
      "[M::worker_pipeline::4.693*2.89] mapped 3375 sequences\n",
      "[M::main] Version: 2.26-r1175\n",
      "[M::main] CMD: minimap2 -x asm5 -a -o sequences.sam wuhan-1.fasta cov2-len-29903.fasta\n",
      "[M::main] Real time: 4.694 sec; CPU: 13.566 sec; Peak RSS: 0.100 GB\n"
     ]
    }
   ],
   "source": [
    "minimap2 -x asm5 -a -o sequences.sam wuhan-1.fasta cov2-len-29903.fasta"
   ]
  },
  {
   "cell_type": "markdown",
   "id": "69fa7b54-f178-4088-969d-1b1ca6c7477e",
   "metadata": {},
   "source": [
    "Print SAM without sequence:"
   ]
  },
  {
   "cell_type": "code",
   "execution_count": 38,
   "id": "69dbb1e2-5f1b-4562-8ea8-ea5f6bd645c5",
   "metadata": {},
   "outputs": [
    {
     "name": "stdout",
     "output_type": "stream",
     "text": [
      "@HD VN:1.6 SO:unsorted GO:query \n",
      "@SQ SN:NC_045512.2 LN:29903 \n",
      "@PG ID:minimap2 PN:minimap2 VN:2.26-r1175 CL:minimap2 -x asm5 -a -o sequences.sam wuhan-1.fasta cov2-len-29903.fasta \n",
      "PV612058.1 0 NC_045512.2 1 60 29903M * 0 0 * NM:i:8 ms:i:29743 AS:i:29743 nn:i:0 tp:A:P cm:i:2989 s1:i:29754 s2:i:0 de:f:0.0003 rl:i:0 \n",
      "PV612059.1 0 NC_045512.2 1 60 29903M * 0 0 * NM:i:10 ms:i:29703 AS:i:29703 nn:i:0 tp:A:P cm:i:2983 s1:i:29723 s2:i:0 de:f:0.0003 rl:i:0 \n",
      "PV612060.1 0 NC_045512.2 1 60 29903M * 0 0 * NM:i:7 ms:i:29763 AS:i:29763 nn:i:0 tp:A:P cm:i:2992 s1:i:29780 s2:i:0 de:f:0.0002 rl:i:0 \n",
      "PV612061.1 0 NC_045512.2 1 60 29903M * 0 0 * NM:i:8 ms:i:29743 AS:i:29743 nn:i:0 tp:A:P cm:i:2990 s1:i:29765 s2:i:0 de:f:0.0003 rl:i:0 \n",
      "OY902096.1 0 NC_045512.2 1 60 29903M * 0 0 * NM:i:21 ms:i:29483 AS:i:29483 nn:i:0 tp:A:P cm:i:2969 s1:i:29635 s2:i:0 de:f:0.0007 rl:i:0 \n",
      "OX648031.1 0 NC_045512.2 1 60 29903M * 0 0 * NM:i:20 ms:i:29503 AS:i:29503 nn:i:0 tp:A:P cm:i:2961 s1:i:29582 s2:i:0 de:f:0.0007 rl:i:0 \n",
      "OX648036.1 0 NC_045512.2 1 60 29903M * 0 0 * NM:i:19 ms:i:29523 AS:i:29523 nn:i:0 tp:A:P cm:i:2966 s1:i:29606 s2:i:0 de:f:0.0006 rl:i:0 \n"
     ]
    }
   ],
   "source": [
    "awk -F\"\\t\" '{ORS=\"\"; for(i=1; i<=NF; i++){if($i!~/[ATCG]{10,}/){print $i\" \"}}print \"\\n\"}' sequences.sam | head -10"
   ]
  },
  {
   "cell_type": "markdown",
   "id": "2cb98ef6-7ccb-4924-9cc1-ead71f862b87",
   "metadata": {},
   "source": [
    "The 6th field specifies the changes. \"29903M\" means that all 29903 nucleotides match (see table 23.1 in my book). Therefore, we print only lines with mutations:"
   ]
  },
  {
   "cell_type": "code",
   "execution_count": 39,
   "id": "c8956b5c-2e07-465c-a31b-1fc09f788d70",
   "metadata": {},
   "outputs": [
    {
     "name": "stdout",
     "output_type": "stream",
     "text": [
      "@HD VN:1.6 SO:unsorted GO:query \n",
      "@SQ SN:NC_045512.2 LN:29903 \n",
      "@PG ID:minimap2 PN:minimap2 VN:2.26-r1175 CL:minimap2 -x asm5 -a -o sequences.sam wuhan-1.fasta cov2-len-29903.fasta \n",
      "OX654083.1 0 NC_045512.2 1 60 29894M9S * 0 0 * NM:i:27 ms:i:29354 AS:i:29354 nn:i:0 tp:A:P cm:i:2939 s1:i:29427 s2:i:0 de:f:0.0009 rl:i:0 \n",
      "OX654115.1 0 NC_045512.2 1 60 29898M5S * 0 0 * NM:i:16 ms:i:29596 AS:i:29596 nn:i:1 tp:A:P cm:i:2973 s1:i:29688 s2:i:0 de:f:0.0005 rl:i:0 \n",
      "OX654563.1 0 NC_045512.2 1 60 29866M37S * 0 0 * NM:i:23 ms:i:29406 AS:i:29406 nn:i:0 tp:A:P cm:i:2955 s1:i:29542 s2:i:0 de:f:0.0008 rl:i:0 \n",
      "OX654704.1 0 NC_045512.2 1 60 29889M14S * 0 0 * NM:i:16 ms:i:29569 AS:i:29569 nn:i:0 tp:A:P cm:i:2963 s1:i:29599 s2:i:0 de:f:0.0005 rl:i:0 \n",
      "OX654810.1 0 NC_045512.2 14 60 13S29890M * 0 0 * NM:i:21 ms:i:29470 AS:i:29470 nn:i:0 tp:A:P cm:i:2958 s1:i:29570 s2:i:0 de:f:0.0007 rl:i:0 \n",
      "OX655121.1 0 NC_045512.2 1 60 29872M31S * 0 0 * NM:i:19 ms:i:29492 AS:i:29492 nn:i:0 tp:A:P cm:i:2962 s1:i:29602 s2:i:0 de:f:0.0006 rl:i:0 \n",
      "OX655617.1 0 NC_045512.2 14 60 13S29890M * 0 0 * NM:i:17 ms:i:29550 AS:i:29550 nn:i:0 tp:A:P cm:i:2972 s1:i:29645 s2:i:0 de:f:0.0006 rl:i:0 \n"
     ]
    }
   ],
   "source": [
    "awk -F\"\\t\" '$6!=\"29903M\"{ORS=\"\"; for(i=1; i<=NF; i++){if($i!~/[ATCG]{10,}/){print $i\" \"}}print \"\\n\"}' sequences.sam | head -10"
   ]
  },
  {
   "cell_type": "code",
   "execution_count": 40,
   "id": "4cc55d94-d920-42a3-9470-75fdf4bfbede",
   "metadata": {},
   "outputs": [
    {
     "name": "stdout",
     "output_type": "stream",
     "text": [
      "96\n"
     ]
    }
   ],
   "source": [
    "awk -F\"\\t\" '$6!=\"29903M\"{ORS=\"\"; for(i=1; i<=NF; i++){if($i!~/[ATCG]{10,}/){print $i\" \"}}print \"\\n\"}' sequences.sam | wc -l"
   ]
  },
  {
   "cell_type": "markdown",
   "id": "03dbeae9-0430-4254-9b17-9f1cc8822426",
   "metadata": {},
   "source": [
    "And now we print the full lines, including the sequences."
   ]
  },
  {
   "cell_type": "code",
   "execution_count": 49,
   "id": "d34cad33-ecfd-44f2-b762-328edf36a25a",
   "metadata": {},
   "outputs": [],
   "source": [
    "awk -F\"\\t\" '$6!=\"29903M\"{print $0}' sequences.sam > sequences_mutated.sam\n",
    "# awk -F\"\\t\" '$6!=\"29903M\"{print $1, $6}' sequences.sam > sequences_mutated.sam"
   ]
  },
  {
   "cell_type": "code",
   "execution_count": 47,
   "id": "98234de1-45bf-46c8-abce-47bd47aa72b4",
   "metadata": {},
   "outputs": [
    {
     "name": "stdout",
     "output_type": "stream",
     "text": [
      "7DF4.script\t      cov2-len-29903.tab  sequences.sam\t\t wuhan-1.tab\n",
      "compare-cov2.awk      fasta2tbl\t\t  sequences_mutated.sam\n",
      "cov2-len-29903.fasta  result.txt\t  wuhan-1.fasta\n"
     ]
    }
   ],
   "source": [
    "ls"
   ]
  },
  {
   "cell_type": "markdown",
   "id": "aafdf5d9-f372-480c-84f0-43e83ae97c64",
   "metadata": {},
   "source": [
    "Convert SAM file to binary format and sort "
   ]
  },
  {
   "cell_type": "code",
   "execution_count": 50,
   "id": "bad40401-81d1-4279-966a-f8bd4354dedf",
   "metadata": {},
   "outputs": [],
   "source": [
    "samtools view -b sequences_mutated.sam | samtools sort - -o sequences_mutated.sorted.bam"
   ]
  },
  {
   "cell_type": "markdown",
   "id": "fbba0c72-5f34-4adc-85d8-c9fbfe880b08",
   "metadata": {},
   "source": [
    "Create index for *sequences.sorted.bam* file for visualization with IGV"
   ]
  },
  {
   "cell_type": "code",
   "execution_count": 51,
   "id": "6f9c4bf9-6d9f-48f4-af28-ef50faa1ea4f",
   "metadata": {},
   "outputs": [],
   "source": [
    "samtools index sequences_mutated.sorted.bam"
   ]
  },
  {
   "attachments": {},
   "cell_type": "markdown",
   "id": "98723ce4-f089-4923-a9ca-9741229917e8",
   "metadata": {},
   "source": [
    "We can now look at the variants with the Samtools viewer ```tview```:\n",
    "\n",
    "Therefore, change to the **terminal** and run ```samtools tview sequences_mutated.sorted.bam wuhan-1.fasta -p NC_045512.2:22871-23084```\n",
    "\n",
    "This opens the following screen. The top sequence represents the reference stored in *wuhan-1.fasta*. Each following line represents one virus genome sequence. A dot means that the nucleotide at this position matches the reference. For mutated nucleotides, the nucleotide is shown. You can sroll left and right with the curos keys and can apply commands as shown in the help. ```Q```brings you back to the terminal prompt.\n",
    "\n",
    "<figure style=\"width:50%; display: block; margin-left: auto; margin-right: auto;\">\n",
    "  <img src=\"samtools-tview.png\" alt=\"samtools-tview.png\" >\n",
    "  <figcaption>The terminal based alignment viewer tview of SamTools.</figcaption>\n",
    "</figure>"
   ]
  },
  {
   "cell_type": "markdown",
   "id": "3368663c-da49-4b44-9307-3ea2e3626dde",
   "metadata": {},
   "source": [
    "## IGV Approach with Xvfb\n",
    "Xvfb is a virtual frame buffer for the graphical X11-server. That means you can open graphical windows without displaying them. Instead, snapshots can be stored."
   ]
  },
  {
   "cell_type": "code",
   "execution_count": 53,
   "id": "bd88cd86-46d3-4c38-9d07-4281cae109fb",
   "metadata": {},
   "outputs": [
    {
     "name": "stdout",
     "output_type": "stream",
     "text": [
      "[mpileup] 1 samples in 1 input files\n",
      "[mpileup] maximum number of reads per input file set to -d 4000\n"
     ]
    }
   ],
   "source": [
    "bcftools mpileup --max-depth 4000 -a AD -f wuhan-1.fasta -o seq-4000.bcf sequences_mutated.sorted.bam"
   ]
  },
  {
   "cell_type": "markdown",
   "id": "d69db7b3-ed13-4f34-80d4-be69d3683d03",
   "metadata": {},
   "source": [
    "Now call the significantly variant position with the multiallelic-caller (`-m`) and assume a ploidy of two. Save only variant sites (`-v`) in a VCF formated file (`-O v`)."
   ]
  },
  {
   "cell_type": "code",
   "execution_count": 54,
   "id": "64e9ae4a-15e8-4fd5-a938-ba392b343731",
   "metadata": {},
   "outputs": [],
   "source": [
    "bcftools call -O v -v -m --ploidy 2 -o seq-4000.vcf seq-4000.bcf"
   ]
  },
  {
   "cell_type": "markdown",
   "id": "fa7155ea-8ed0-4c87-b993-cf0f1f93e0ce",
   "metadata": {},
   "source": [
    "Convert original file with all variant position (without statistical model) to VCF"
   ]
  },
  {
   "cell_type": "code",
   "execution_count": 55,
   "id": "d723d219-300f-4291-8262-f8218aba8d30",
   "metadata": {},
   "outputs": [],
   "source": [
    "bcftools view -O v -o seq-4000-all.vcf seq-4000.bcf"
   ]
  },
  {
   "cell_type": "markdown",
   "id": "ef4761bf-4264-4878-b33a-346525ef4c6f",
   "metadata": {},
   "source": [
    "Extract all positions that have at least one variant nucleotide."
   ]
  },
  {
   "cell_type": "code",
   "execution_count": 56,
   "id": "a73cf4d0-6973-4f44-8359-81b31e920154",
   "metadata": {},
   "outputs": [],
   "source": [
    "awk '$5~/[ACGT]/||$0~/^#/{print $0}' seq-4000-all.vcf > seq-4000-snv.vcf"
   ]
  },
  {
   "cell_type": "markdown",
   "id": "62ff8d89-5b36-416e-a1ff-2001b72b0b62",
   "metadata": {},
   "source": [
    "Download GenBank file of reference genome for annotation"
   ]
  },
  {
   "cell_type": "code",
   "execution_count": 57,
   "id": "1f383d1f-c59f-446e-9d0f-e4f37c012ee9",
   "metadata": {},
   "outputs": [],
   "source": [
    "efetch -db nuccore -id NC_045512 -format genbank > wuhan-1.gb"
   ]
  },
  {
   "cell_type": "markdown",
   "id": "6a79433d-c9c9-4daf-bd6e-84a3e825ee7f",
   "metadata": {},
   "source": [
    "Edit GenBank file to be compatible with the FASTA version. "
   ]
  },
  {
   "cell_type": "code",
   "execution_count": 58,
   "id": "5563d278-ad06-4e1e-8715-00d464d5356b",
   "metadata": {},
   "outputs": [],
   "source": [
    "sed -i 's/NC_045512/NC_045512.2/' wuhan-1.gb"
   ]
  },
  {
   "cell_type": "markdown",
   "id": "2ab09dc0-1846-4547-a392-98635f6b0353",
   "metadata": {},
   "source": [
    "Create GFF3 File *spikeprotein.gff3*:\n",
    "```\n",
    "##gff-version 3\n",
    "##track name=\"Spike Protein\" gffTags=on\n",
    "NC_045512.2     .       CDS     21563   25383   .       +       .       ID=Spike;Name=SpikeProtein;Color=blue\n",
    "NC_045512.2     .       CDS     22517   23183   .       +       .       ID=Domain;Name=RBDomain;Color=green\n",
    "NC_045512.2     .       CDS     22871   23084   .       +       .       ID=Motif;Name=RBMotif;Color=red\n",
    "```"
   ]
  },
  {
   "cell_type": "markdown",
   "id": "f8a6527f-4c9c-48ab-aa08-83d46f24d3f1",
   "metadata": {},
   "source": [
    "Call IGV with ```xvfb-run```and the following IGV script file called *igv.bat*:\n",
    "\n",
    "```\n",
    "new\n",
    "snapshotDirectory snapshots\n",
    "# genome wuhan-1.gb\n",
    "load spikeprotein.gff3\n",
    "# load sequences_mutated.sorted.bam\n",
    "load seq-4000.vcf \n",
    "load seq-4000-snv.vcf\n",
    "snapshot region_full.png\n",
    "# RBM:\n",
    "goto NC_045512.2:22871-23084\n",
    "snapshot region_RBM.png\n",
    "# RBD:\n",
    "goto NC_045512.2:22517-23183\n",
    "snapshot region_RBD.png\n",
    "exit\n",
    "```"
   ]
  },
  {
   "cell_type": "code",
   "execution_count": null,
   "id": "2d790368-c2da-4a98-895b-e6133eaeba98",
   "metadata": {},
   "outputs": [
    {
     "name": "stdout",
     "output_type": "stream",
     "text": [
      "Sep 23, 2025 1:31:17 PM java.util.prefs.FileSystemPreferences$1 run\n",
      "INFO: Created user preferences directory.\n",
      "INFO [Sep 23,2025 13:31] [Main] Startup  IGV Version user not_set\n",
      "INFO [Sep 23,2025 13:31] [Main] Java 21.0.8 (build 21.0.8+9-Ubuntu-0ubuntu124.04.1) 2025-07-15\n",
      "INFO [Sep 23,2025 13:31] [Main] Java Vendor: Ubuntu https://ubuntu.com/\n",
      "INFO [Sep 23,2025 13:31] [Main] JVM: OpenJDK 64-Bit Server VM    \n",
      "INFO [Sep 23,2025 13:31] [Main] OS: Linux 6.8.0-79-generic amd64\n",
      "INFO [Sep 23,2025 13:31] [Main] IGV Directory: /home/jupyter-juggler03/igv\n",
      "INFO [Sep 23,2025 13:31] [CommandListener] Listening on port 60151\n",
      "INFO [Sep 23,2025 13:31] [BatchRunner] Executing batch script: igv.bat\n",
      "SEVERE [Sep 23,2025 13:31] [UIUtilities] Error invoking runnable\n",
      "SEVERE [Sep 23,2025 13:31] [UIUtilities] java.lang.reflect.InvocationTargetException\n",
      "\tat java.desktop/java.awt.EventQueue.invokeAndWait(EventQueue.java:1371)\n",
      "\tat java.desktop/java.awt.EventQueue.invokeAndWait(EventQueue.java:1346)\n",
      "\tat java.desktop/javax.swing.SwingUtilities.invokeAndWait(SwingUtilities.java:1480)\n",
      "\tat org.broad.igv.ui.util.UIUtilities.invokeAndWaitOnEventThread(UIUtilities.java:169)\n",
      "\tat org.broad.igv.ui.IGV$StartupRunnable.run(IGV.java:1899)\n",
      "\tat org.broad.igv.util.LongRunningTask.call(LongRunningTask.java:72)\n",
      "\tat java.base/java.util.concurrent.FutureTask.run(FutureTask.java:317)\n",
      "\tat java.base/java.util.concurrent.ThreadPoolExecutor.runWorker(ThreadPoolExecutor.java:1144)\n",
      "\tat java.base/java.util.concurrent.ThreadPoolExecutor$Worker.run(ThreadPoolExecutor.java:642)\n",
      "\tat java.base/java.lang.Thread.run(Thread.java:1583)\n",
      "Caused by: org.broad.igv.exceptions.DataLoadException: An error occurred while accessing:    igv.bat<br>igv.bat (No such file or directory)\n",
      "\tat org.broad.igv.batch.BatchRunner.runWithDefaultGenome(BatchRunner.java:112)\n",
      "\tat org.broad.igv.ui.IGV$StartupRunnable.lambda$run$1(IGV.java:1902)\n",
      "\tat java.desktop/java.awt.event.InvocationEvent.dispatch(InvocationEvent.java:308)\n",
      "\tat java.desktop/java.awt.EventQueue.dispatchEventImpl(EventQueue.java:773)\n",
      "\tat java.desktop/java.awt.EventQueue$4.run(EventQueue.java:720)\n",
      "\tat java.desktop/java.awt.EventQueue$4.run(EventQueue.java:714)\n",
      "\tat java.base/java.security.AccessController.doPrivileged(AccessController.java:400)\n",
      "\tat java.base/java.security.ProtectionDomain$JavaSecurityAccessImpl.doIntersectionPrivilege(ProtectionDomain.java:87)\n",
      "\tat java.desktop/java.awt.EventQueue.dispatchEvent(EventQueue.java:742)\n",
      "\tat java.desktop/java.awt.EventDispatchThread.pumpOneEventForFilters(EventDispatchThread.java:203)\n",
      "\tat java.desktop/java.awt.EventDispatchThread.pumpEventsForFilter(EventDispatchThread.java:124)\n",
      "\tat java.desktop/java.awt.EventDispatchThread.pumpEventsForHierarchy(EventDispatchThread.java:113)\n",
      "\tat java.desktop/java.awt.EventDispatchThread.pumpEvents(EventDispatchThread.java:109)\n",
      "\tat java.desktop/java.awt.EventDispatchThread.pumpEvents(EventDispatchThread.java:101)\n",
      "\tat java.desktop/java.awt.EventDispatchThread.run(EventDispatchThread.java:90)\n",
      "\n",
      "INFO [Sep 23,2025 13:31] [BatchRunner] Executing batch script: igv.bat\n",
      "SEVERE [Sep 23,2025 13:31] [DefaultExceptionHandler] Unhandled exception\n",
      "SEVERE [Sep 23,2025 13:31] [DefaultExceptionHandler] org.broad.igv.exceptions.DataLoadException: An error occurred while accessing:    igv.bat<br>igv.bat (No such file or directory)\n",
      "\tat org.broad.igv.batch.BatchRunner.runWithDefaultGenome(BatchRunner.java:112)\n",
      "\tat org.broad.igv.ui.IGV$StartupRunnable.lambda$run$1(IGV.java:1902)\n",
      "\tat java.desktop/java.awt.event.InvocationEvent.dispatch(InvocationEvent.java:318)\n",
      "\tat java.desktop/java.awt.EventQueue.dispatchEventImpl(EventQueue.java:773)\n",
      "\tat java.desktop/java.awt.EventQueue$4.run(EventQueue.java:720)\n",
      "\tat java.desktop/java.awt.EventQueue$4.run(EventQueue.java:714)\n",
      "\tat java.base/java.security.AccessController.doPrivileged(AccessController.java:400)\n",
      "\tat java.base/java.security.ProtectionDomain$JavaSecurityAccessImpl.doIntersectionPrivilege(ProtectionDomain.java:87)\n",
      "\tat java.desktop/java.awt.EventQueue.dispatchEvent(EventQueue.java:742)\n",
      "\tat java.desktop/java.awt.EventDispatchThread.pumpOneEventForFilters(EventDispatchThread.java:203)\n",
      "\tat java.desktop/java.awt.EventDispatchThread.pumpEventsForFilter(EventDispatchThread.java:124)\n",
      "\tat java.desktop/java.awt.EventDispatchThread.pumpEventsForHierarchy(EventDispatchThread.java:113)\n",
      "\tat java.desktop/java.awt.EventDispatchThread.pumpEvents(EventDispatchThread.java:109)\n",
      "\tat java.desktop/java.awt.EventDispatchThread.pumpEvents(EventDispatchThread.java:101)\n",
      "\tat java.desktop/java.awt.EventDispatchThread.run(EventDispatchThread.java:90)\n",
      "\n"
     ]
    }
   ],
   "source": [
    "# igv -g wuhan-1.gb -l NC_045512.2:22871-23084 sequences.sorted.bam seq-4000.vcf seq-4000-snv.vcf spikeprotein.gff3\n",
    "xvfb-run -a igv -b igv.bat # notebooks/AngBioInfo_2025/AngBioInfo_2025/SARS-CoV-2"
   ]
  },
  {
   "attachments": {},
   "cell_type": "markdown",
   "id": "cf14dd4b-a637-4e31-8dea-ecfd3db7261d",
   "metadata": {},
   "source": [
    "**Attention**: Images do not update automatically:\n",
    "\n",
    "<figure style=\"text-align: center;\">\n",
    "  <img src=\"snapshots/region_full.png\" style=\"width: 30%; display: inline-block; margin-right: 2%;\">\n",
    "  <img src=\"snapshots/region_RBD.png\" style=\"width: 30%; display: inline-block;\">\n",
    "  <img src=\"snapshots/region_RBM.png\" style=\"width: 30%; display: inline-block;\">\n",
    "  <figcaption>Window snapshot of IGV with left) the complete virus, middle) the RBD and right) the RBM.</figcaption>\n",
    "</figure>\n",
    "<script>\n",
    "  document.getElementById(\"myimg\").src += '?t=' + new Date().getTime();\n",
    "</script>"
   ]
  },
  {
   "cell_type": "markdown",
   "id": "074ea79c-8daa-4a5b-b6b8-c173f35d64ff",
   "metadata": {},
   "source": [
    "sequences_mutated.sorted.bam"
   ]
  }
 ],
 "metadata": {
  "kernelspec": {
   "display_name": "Bash",
   "language": "bash",
   "name": "bash"
  },
  "language_info": {
   "codemirror_mode": "shell",
   "file_extension": ".sh",
   "mimetype": "text/x-sh",
   "name": "bash"
  }
 },
 "nbformat": 4,
 "nbformat_minor": 5
}
