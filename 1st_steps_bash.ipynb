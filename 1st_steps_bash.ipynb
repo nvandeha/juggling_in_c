{
 "cells": [
  {
   "cell_type": "code",
   "execution_count": 1,
   "id": "96a19c00-d9b5-47e1-a787-e40537688e2b",
   "metadata": {},
   "outputs": [
    {
     "name": "stdout",
     "output_type": "stream",
     "text": [
      "Mon Sep 22 11:34:16 CEST 2025\n"
     ]
    }
   ],
   "source": [
    "date"
   ]
  },
  {
   "cell_type": "markdown",
   "id": "8e215ca7-df30-4538-82e7-928bcbe3cddd",
   "metadata": {},
   "source": [
    "# My Notebook\n",
    "## Bash Basics\n",
    "- piping, redirecting\n",
    "- functions"
   ]
  },
  {
   "cell_type": "code",
   "execution_count": 2,
   "id": "fcb7c26d-9811-4873-b59e-07e77b347f90",
   "metadata": {},
   "outputs": [],
   "source": [
    "zeit() { date | awk '{print $4}'; }"
   ]
  },
  {
   "cell_type": "code",
   "execution_count": 3,
   "id": "c5e49478-82c8-4853-b75c-10133fb72c5f",
   "metadata": {},
   "outputs": [
    {
     "name": "stdout",
     "output_type": "stream",
     "text": [
      "11:34:16\n"
     ]
    }
   ],
   "source": [
    "zeit"
   ]
  },
  {
   "cell_type": "code",
   "execution_count": 4,
   "id": "9121961f-06c1-4ed5-b6e1-8466de65bb1c",
   "metadata": {},
   "outputs": [
    {
     "name": "stdout",
     "output_type": "stream",
     "text": [
      "/home/jupyter-juggler03\n"
     ]
    }
   ],
   "source": [
    "pwd"
   ]
  },
  {
   "cell_type": "code",
   "execution_count": 5,
   "id": "229260f1-cdb2-477d-af3e-726bb8ed6760",
   "metadata": {},
   "outputs": [
    {
     "name": "stdout",
     "output_type": "stream",
     "text": [
      "Playground  Untitled.ipynb  Untitled1.ipynb\n"
     ]
    }
   ],
   "source": [
    "ls"
   ]
  },
  {
   "cell_type": "code",
   "execution_count": 6,
   "id": "19cf7e28-0799-4110-bf03-4425613ef22e",
   "metadata": {},
   "outputs": [],
   "source": [
    "cd Playground"
   ]
  },
  {
   "cell_type": "code",
   "execution_count": 7,
   "id": "d74cefc9-1290-4a10-871a-e7ab704de259",
   "metadata": {},
   "outputs": [
    {
     "name": "stdout",
     "output_type": "stream",
     "text": [
      "zeit.txt\n"
     ]
    }
   ],
   "source": [
    "ls"
   ]
  },
  {
   "cell_type": "code",
   "execution_count": 8,
   "id": "23f2dc75-606c-4baf-9b81-1fa3b6044b5b",
   "metadata": {},
   "outputs": [
    {
     "name": "stdout",
     "output_type": "stream",
     "text": [
      "/home/jupyter-juggler03/Playground\n"
     ]
    }
   ],
   "source": [
    "pwd"
   ]
  },
  {
   "cell_type": "code",
   "execution_count": 9,
   "id": "e1f35db7-e875-4819-b827-e4adc0ab8c71",
   "metadata": {},
   "outputs": [
    {
     "name": "stdout",
     "output_type": "stream",
     "text": [
      "zeit.txt\n"
     ]
    }
   ],
   "source": [
    "ls"
   ]
  },
  {
   "cell_type": "code",
   "execution_count": 10,
   "id": "4222daa5-9b83-45f4-a738-d8ce27847965",
   "metadata": {},
   "outputs": [
    {
     "name": "stdout",
     "output_type": "stream",
     "text": [
      "11:34:17\n"
     ]
    }
   ],
   "source": [
    "zeit"
   ]
  },
  {
   "cell_type": "code",
   "execution_count": 11,
   "id": "3fefa7fd-cb99-43d2-811b-616808fa0b4d",
   "metadata": {},
   "outputs": [],
   "source": [
    "for i in {1..20}; do zeit >> zeit.txt; done"
   ]
  },
  {
   "cell_type": "code",
   "execution_count": 13,
   "id": "644f87f5-509e-4fe8-8636-f37c2b989875",
   "metadata": {},
   "outputs": [
    {
     "name": "stdout",
     "output_type": "stream",
     "text": [
      "11:09:56\n",
      "11:10:24\n",
      "11:32:30\n",
      "11:32:30\n",
      "11:32:30\n"
     ]
    }
   ],
   "source": [
    "head -5 zeit.txt"
   ]
  },
  {
   "cell_type": "code",
   "execution_count": 16,
   "id": "6696d8cb-0ec6-4311-b626-40f8951b19c7",
   "metadata": {},
   "outputs": [],
   "source": [
    "touch file{1..10}.{seq,fasta}"
   ]
  },
  {
   "cell_type": "code",
   "execution_count": 15,
   "id": "228086c6-71b3-4165-92cf-b65f5e99ab11",
   "metadata": {},
   "outputs": [
    {
     "name": "stdout",
     "output_type": "stream",
     "text": [
      "1.fasta   10.seq   3.fasta  4.seq    6.fasta  7.seq    9.fasta\tzeit.txt\n",
      "1.seq\t  2.fasta  3.seq    5.fasta  6.seq    8.fasta  9.seq\n",
      "10.fasta  2.seq    4.fasta  5.seq    7.fasta  8.seq    file\n"
     ]
    }
   ],
   "source": [
    "ls"
   ]
  },
  {
   "cell_type": "code",
   "execution_count": 17,
   "id": "2b611294-e325-4f3b-921b-5d349701e2e3",
   "metadata": {},
   "outputs": [
    {
     "name": "stdout",
     "output_type": "stream",
     "text": [
      "total 4\n",
      "-rw-r--r-- 1 jupyter-juggler03 jupyter-juggler03   0 Sep 22 11:44 1.fasta\n",
      "-rw-r--r-- 1 jupyter-juggler03 jupyter-juggler03   0 Sep 22 11:44 1.seq\n",
      "-rw-r--r-- 1 jupyter-juggler03 jupyter-juggler03   0 Sep 22 11:44 10.fasta\n",
      "-rw-r--r-- 1 jupyter-juggler03 jupyter-juggler03   0 Sep 22 11:44 10.seq\n",
      "-rw-r--r-- 1 jupyter-juggler03 jupyter-juggler03   0 Sep 22 11:44 2.fasta\n",
      "-rw-r--r-- 1 jupyter-juggler03 jupyter-juggler03   0 Sep 22 11:44 2.seq\n",
      "-rw-r--r-- 1 jupyter-juggler03 jupyter-juggler03   0 Sep 22 11:44 3.fasta\n",
      "-rw-r--r-- 1 jupyter-juggler03 jupyter-juggler03   0 Sep 22 11:44 3.seq\n",
      "-rw-r--r-- 1 jupyter-juggler03 jupyter-juggler03   0 Sep 22 11:44 4.fasta\n",
      "-rw-r--r-- 1 jupyter-juggler03 jupyter-juggler03   0 Sep 22 11:44 4.seq\n",
      "-rw-r--r-- 1 jupyter-juggler03 jupyter-juggler03   0 Sep 22 11:44 5.fasta\n",
      "-rw-r--r-- 1 jupyter-juggler03 jupyter-juggler03   0 Sep 22 11:44 5.seq\n",
      "-rw-r--r-- 1 jupyter-juggler03 jupyter-juggler03   0 Sep 22 11:44 6.fasta\n",
      "-rw-r--r-- 1 jupyter-juggler03 jupyter-juggler03   0 Sep 22 11:44 6.seq\n",
      "-rw-r--r-- 1 jupyter-juggler03 jupyter-juggler03   0 Sep 22 11:44 7.fasta\n",
      "-rw-r--r-- 1 jupyter-juggler03 jupyter-juggler03   0 Sep 22 11:44 7.seq\n",
      "-rw-r--r-- 1 jupyter-juggler03 jupyter-juggler03   0 Sep 22 11:44 8.fasta\n",
      "-rw-r--r-- 1 jupyter-juggler03 jupyter-juggler03   0 Sep 22 11:44 8.seq\n",
      "-rw-r--r-- 1 jupyter-juggler03 jupyter-juggler03   0 Sep 22 11:44 9.fasta\n",
      "-rw-r--r-- 1 jupyter-juggler03 jupyter-juggler03   0 Sep 22 11:44 9.seq\n",
      "-rw-r--r-- 1 jupyter-juggler03 jupyter-juggler03   0 Sep 22 11:44 file\n",
      "-rw-r--r-- 1 jupyter-juggler03 jupyter-juggler03   0 Sep 22 11:46 file1.fasta\n",
      "-rw-r--r-- 1 jupyter-juggler03 jupyter-juggler03   0 Sep 22 11:46 file1.seq\n",
      "-rw-r--r-- 1 jupyter-juggler03 jupyter-juggler03   0 Sep 22 11:46 file10.fasta\n",
      "-rw-r--r-- 1 jupyter-juggler03 jupyter-juggler03   0 Sep 22 11:46 file10.seq\n",
      "-rw-r--r-- 1 jupyter-juggler03 jupyter-juggler03   0 Sep 22 11:46 file2.fasta\n",
      "-rw-r--r-- 1 jupyter-juggler03 jupyter-juggler03   0 Sep 22 11:46 file2.seq\n",
      "-rw-r--r-- 1 jupyter-juggler03 jupyter-juggler03   0 Sep 22 11:46 file3.fasta\n",
      "-rw-r--r-- 1 jupyter-juggler03 jupyter-juggler03   0 Sep 22 11:46 file3.seq\n",
      "-rw-r--r-- 1 jupyter-juggler03 jupyter-juggler03   0 Sep 22 11:46 file4.fasta\n",
      "-rw-r--r-- 1 jupyter-juggler03 jupyter-juggler03   0 Sep 22 11:46 file4.seq\n",
      "-rw-r--r-- 1 jupyter-juggler03 jupyter-juggler03   0 Sep 22 11:46 file5.fasta\n",
      "-rw-r--r-- 1 jupyter-juggler03 jupyter-juggler03   0 Sep 22 11:46 file5.seq\n",
      "-rw-r--r-- 1 jupyter-juggler03 jupyter-juggler03   0 Sep 22 11:46 file6.fasta\n",
      "-rw-r--r-- 1 jupyter-juggler03 jupyter-juggler03   0 Sep 22 11:46 file6.seq\n",
      "-rw-r--r-- 1 jupyter-juggler03 jupyter-juggler03   0 Sep 22 11:46 file7.fasta\n",
      "-rw-r--r-- 1 jupyter-juggler03 jupyter-juggler03   0 Sep 22 11:46 file7.seq\n",
      "-rw-r--r-- 1 jupyter-juggler03 jupyter-juggler03   0 Sep 22 11:46 file8.fasta\n",
      "-rw-r--r-- 1 jupyter-juggler03 jupyter-juggler03   0 Sep 22 11:46 file8.seq\n",
      "-rw-r--r-- 1 jupyter-juggler03 jupyter-juggler03   0 Sep 22 11:46 file9.fasta\n",
      "-rw-r--r-- 1 jupyter-juggler03 jupyter-juggler03   0 Sep 22 11:46 file9.seq\n",
      "-rw-r--r-- 1 jupyter-juggler03 jupyter-juggler03 558 Sep 22 11:34 zeit.txt\n"
     ]
    }
   ],
   "source": [
    "ls -l"
   ]
  },
  {
   "cell_type": "code",
   "execution_count": 18,
   "id": "c49f7860-6aaf-4d7d-856c-fde1759b6733",
   "metadata": {},
   "outputs": [],
   "source": [
    "mkdir Test"
   ]
  },
  {
   "cell_type": "code",
   "execution_count": 19,
   "id": "2379bb98-529c-43f1-b0d9-b3c8d3d3ff21",
   "metadata": {},
   "outputs": [
    {
     "name": "stdout",
     "output_type": "stream",
     "text": [
      "total 8\n",
      "-rw-r--r-- 1 jupyter-juggler03 jupyter-juggler03    0 Sep 22 11:44 1.fasta\n",
      "-rw-r--r-- 1 jupyter-juggler03 jupyter-juggler03    0 Sep 22 11:44 1.seq\n",
      "-rw-r--r-- 1 jupyter-juggler03 jupyter-juggler03    0 Sep 22 11:44 10.fasta\n",
      "-rw-r--r-- 1 jupyter-juggler03 jupyter-juggler03    0 Sep 22 11:44 10.seq\n",
      "-rw-r--r-- 1 jupyter-juggler03 jupyter-juggler03    0 Sep 22 11:44 2.fasta\n",
      "-rw-r--r-- 1 jupyter-juggler03 jupyter-juggler03    0 Sep 22 11:44 2.seq\n",
      "-rw-r--r-- 1 jupyter-juggler03 jupyter-juggler03    0 Sep 22 11:44 3.fasta\n",
      "-rw-r--r-- 1 jupyter-juggler03 jupyter-juggler03    0 Sep 22 11:44 3.seq\n",
      "-rw-r--r-- 1 jupyter-juggler03 jupyter-juggler03    0 Sep 22 11:44 4.fasta\n",
      "-rw-r--r-- 1 jupyter-juggler03 jupyter-juggler03    0 Sep 22 11:44 4.seq\n",
      "-rw-r--r-- 1 jupyter-juggler03 jupyter-juggler03    0 Sep 22 11:44 5.fasta\n",
      "-rw-r--r-- 1 jupyter-juggler03 jupyter-juggler03    0 Sep 22 11:44 5.seq\n",
      "-rw-r--r-- 1 jupyter-juggler03 jupyter-juggler03    0 Sep 22 11:44 6.fasta\n",
      "-rw-r--r-- 1 jupyter-juggler03 jupyter-juggler03    0 Sep 22 11:44 6.seq\n",
      "-rw-r--r-- 1 jupyter-juggler03 jupyter-juggler03    0 Sep 22 11:44 7.fasta\n",
      "-rw-r--r-- 1 jupyter-juggler03 jupyter-juggler03    0 Sep 22 11:44 7.seq\n",
      "-rw-r--r-- 1 jupyter-juggler03 jupyter-juggler03    0 Sep 22 11:44 8.fasta\n",
      "-rw-r--r-- 1 jupyter-juggler03 jupyter-juggler03    0 Sep 22 11:44 8.seq\n",
      "-rw-r--r-- 1 jupyter-juggler03 jupyter-juggler03    0 Sep 22 11:44 9.fasta\n",
      "-rw-r--r-- 1 jupyter-juggler03 jupyter-juggler03    0 Sep 22 11:44 9.seq\n",
      "drwxr-xr-x 2 jupyter-juggler03 jupyter-juggler03 4096 Sep 22 11:49 Test\n",
      "-rw-r--r-- 1 jupyter-juggler03 jupyter-juggler03    0 Sep 22 11:44 file\n",
      "-rw-r--r-- 1 jupyter-juggler03 jupyter-juggler03    0 Sep 22 11:46 file1.fasta\n",
      "-rw-r--r-- 1 jupyter-juggler03 jupyter-juggler03    0 Sep 22 11:46 file1.seq\n",
      "-rw-r--r-- 1 jupyter-juggler03 jupyter-juggler03    0 Sep 22 11:46 file10.fasta\n",
      "-rw-r--r-- 1 jupyter-juggler03 jupyter-juggler03    0 Sep 22 11:46 file10.seq\n",
      "-rw-r--r-- 1 jupyter-juggler03 jupyter-juggler03    0 Sep 22 11:46 file2.fasta\n",
      "-rw-r--r-- 1 jupyter-juggler03 jupyter-juggler03    0 Sep 22 11:46 file2.seq\n",
      "-rw-r--r-- 1 jupyter-juggler03 jupyter-juggler03    0 Sep 22 11:46 file3.fasta\n",
      "-rw-r--r-- 1 jupyter-juggler03 jupyter-juggler03    0 Sep 22 11:46 file3.seq\n",
      "-rw-r--r-- 1 jupyter-juggler03 jupyter-juggler03    0 Sep 22 11:46 file4.fasta\n",
      "-rw-r--r-- 1 jupyter-juggler03 jupyter-juggler03    0 Sep 22 11:46 file4.seq\n",
      "-rw-r--r-- 1 jupyter-juggler03 jupyter-juggler03    0 Sep 22 11:46 file5.fasta\n",
      "-rw-r--r-- 1 jupyter-juggler03 jupyter-juggler03    0 Sep 22 11:46 file5.seq\n",
      "-rw-r--r-- 1 jupyter-juggler03 jupyter-juggler03    0 Sep 22 11:46 file6.fasta\n",
      "-rw-r--r-- 1 jupyter-juggler03 jupyter-juggler03    0 Sep 22 11:46 file6.seq\n",
      "-rw-r--r-- 1 jupyter-juggler03 jupyter-juggler03    0 Sep 22 11:46 file7.fasta\n",
      "-rw-r--r-- 1 jupyter-juggler03 jupyter-juggler03    0 Sep 22 11:46 file7.seq\n",
      "-rw-r--r-- 1 jupyter-juggler03 jupyter-juggler03    0 Sep 22 11:46 file8.fasta\n",
      "-rw-r--r-- 1 jupyter-juggler03 jupyter-juggler03    0 Sep 22 11:46 file8.seq\n",
      "-rw-r--r-- 1 jupyter-juggler03 jupyter-juggler03    0 Sep 22 11:46 file9.fasta\n",
      "-rw-r--r-- 1 jupyter-juggler03 jupyter-juggler03    0 Sep 22 11:46 file9.seq\n",
      "-rw-r--r-- 1 jupyter-juggler03 jupyter-juggler03  558 Sep 22 11:34 zeit.txt\n"
     ]
    }
   ],
   "source": [
    "ls -l"
   ]
  },
  {
   "cell_type": "code",
   "execution_count": 20,
   "id": "b678e5aa-c770-4a52-b21c-f141e1f82c3f",
   "metadata": {},
   "outputs": [],
   "source": [
    "touch file3.seq"
   ]
  },
  {
   "cell_type": "code",
   "execution_count": 21,
   "id": "ea0526c4-3da2-4bab-9c68-3877b812aaf2",
   "metadata": {},
   "outputs": [
    {
     "name": "stdout",
     "output_type": "stream",
     "text": [
      "-rw-r--r-- 1 jupyter-juggler03 jupyter-juggler03 0 Sep 22 11:46 file3.fasta\n",
      "-rw-r--r-- 1 jupyter-juggler03 jupyter-juggler03 0 Sep 22 11:52 file3.seq\n"
     ]
    }
   ],
   "source": [
    "ls -l file3.*"
   ]
  },
  {
   "cell_type": "code",
   "execution_count": 22,
   "id": "07370531-d8e5-4071-9092-dd634a8cde5e",
   "metadata": {},
   "outputs": [
    {
     "name": "stdout",
     "output_type": "stream",
     "text": [
      "-rw-r--r-- 1 jupyter-juggler03 jupyter-juggler03 0 Sep 22 11:44 1.fasta\n",
      "-rw-r--r-- 1 jupyter-juggler03 jupyter-juggler03 0 Sep 22 11:44 10.fasta\n",
      "-rw-r--r-- 1 jupyter-juggler03 jupyter-juggler03 0 Sep 22 11:44 2.fasta\n",
      "-rw-r--r-- 1 jupyter-juggler03 jupyter-juggler03 0 Sep 22 11:44 3.fasta\n",
      "-rw-r--r-- 1 jupyter-juggler03 jupyter-juggler03 0 Sep 22 11:44 4.fasta\n",
      "-rw-r--r-- 1 jupyter-juggler03 jupyter-juggler03 0 Sep 22 11:44 5.fasta\n",
      "-rw-r--r-- 1 jupyter-juggler03 jupyter-juggler03 0 Sep 22 11:44 6.fasta\n",
      "-rw-r--r-- 1 jupyter-juggler03 jupyter-juggler03 0 Sep 22 11:44 7.fasta\n",
      "-rw-r--r-- 1 jupyter-juggler03 jupyter-juggler03 0 Sep 22 11:44 8.fasta\n",
      "-rw-r--r-- 1 jupyter-juggler03 jupyter-juggler03 0 Sep 22 11:44 9.fasta\n",
      "-rw-r--r-- 1 jupyter-juggler03 jupyter-juggler03 0 Sep 22 11:46 file1.fasta\n",
      "-rw-r--r-- 1 jupyter-juggler03 jupyter-juggler03 0 Sep 22 11:46 file10.fasta\n",
      "-rw-r--r-- 1 jupyter-juggler03 jupyter-juggler03 0 Sep 22 11:46 file2.fasta\n",
      "-rw-r--r-- 1 jupyter-juggler03 jupyter-juggler03 0 Sep 22 11:46 file3.fasta\n",
      "-rw-r--r-- 1 jupyter-juggler03 jupyter-juggler03 0 Sep 22 11:46 file4.fasta\n",
      "-rw-r--r-- 1 jupyter-juggler03 jupyter-juggler03 0 Sep 22 11:46 file5.fasta\n",
      "-rw-r--r-- 1 jupyter-juggler03 jupyter-juggler03 0 Sep 22 11:46 file6.fasta\n",
      "-rw-r--r-- 1 jupyter-juggler03 jupyter-juggler03 0 Sep 22 11:46 file7.fasta\n",
      "-rw-r--r-- 1 jupyter-juggler03 jupyter-juggler03 0 Sep 22 11:46 file8.fasta\n",
      "-rw-r--r-- 1 jupyter-juggler03 jupyter-juggler03 0 Sep 22 11:46 file9.fasta\n"
     ]
    }
   ],
   "source": [
    "ls -l *.fasta"
   ]
  },
  {
   "cell_type": "code",
   "execution_count": 24,
   "id": "38106894-437a-4b0d-9f25-7b3691d2ab90",
   "metadata": {},
   "outputs": [],
   "source": [
    "## File Archive\n"
   ]
  },
  {
   "cell_type": "code",
   "execution_count": 26,
   "id": "7289a666-bb22-4283-a656-0b333726ed65",
   "metadata": {},
   "outputs": [],
   "source": [
    "tar -cf myarchive.tar *.seq"
   ]
  },
  {
   "cell_type": "code",
   "execution_count": 27,
   "id": "bbf5641a-7004-4b96-b81c-bc31ff0d7f2f",
   "metadata": {},
   "outputs": [
    {
     "name": "stdout",
     "output_type": "stream",
     "text": [
      "1.fasta   4.fasta  8.fasta\tfile10.fasta  file5.fasta  file9.fasta\n",
      "1.seq\t  4.seq    8.seq\tfile10.seq    file5.seq    file9.seq\n",
      "10.fasta  5.fasta  9.fasta\tfile2.fasta   file6.fasta  myarchive.tar\n",
      "10.seq\t  5.seq    9.seq\tfile2.seq     file6.seq    zeit.txt\n",
      "2.fasta   6.fasta  Test\t\tfile3.fasta   file7.fasta\n",
      "2.seq\t  6.seq    file\t\tfile3.seq     file7.seq\n",
      "3.fasta   7.fasta  file1.fasta\tfile4.fasta   file8.fasta\n",
      "3.seq\t  7.seq    file1.seq\tfile4.seq     file8.seq\n"
     ]
    }
   ],
   "source": [
    "ls"
   ]
  },
  {
   "cell_type": "code",
   "execution_count": 29,
   "id": "5085dea6-bc2e-4482-9e06-2a68aedf4b7b",
   "metadata": {},
   "outputs": [
    {
     "name": "stdout",
     "output_type": "stream",
     "text": [
      "-rw-r--r-- 1 jupyter-juggler03 jupyter-juggler03 20K Sep 22 11:56 ./myarchive.tar\n"
     ]
    }
   ],
   "source": [
    "ls -lh ./myarchive.tar"
   ]
  },
  {
   "cell_type": "code",
   "execution_count": 30,
   "id": "a97a61e3-183a-449f-b334-990291b1db6a",
   "metadata": {},
   "outputs": [
    {
     "name": "stdout",
     "output_type": "stream",
     "text": [
      "1.seq\n",
      "10.seq\n",
      "2.seq\n",
      "3.seq\n",
      "4.seq\n",
      "5.seq\n",
      "6.seq\n",
      "7.seq\n",
      "8.seq\n",
      "9.seq\n",
      "file1.seq\n",
      "file10.seq\n",
      "file2.seq\n",
      "file3.seq\n",
      "file4.seq\n",
      "file5.seq\n",
      "file6.seq\n",
      "file7.seq\n",
      "file8.seq\n",
      "file9.seq\n"
     ]
    }
   ],
   "source": [
    "tar -tf ./myarchive.tar"
   ]
  },
  {
   "cell_type": "code",
   "execution_count": 31,
   "id": "6d86b894-dff8-47be-866a-d919f1907d4d",
   "metadata": {},
   "outputs": [],
   "source": [
    "gzip ./myarchive.tar"
   ]
  },
  {
   "cell_type": "code",
   "execution_count": 34,
   "id": "f0f03284-6f90-4b80-a774-54def2f068a9",
   "metadata": {},
   "outputs": [
    {
     "name": "stdout",
     "output_type": "stream",
     "text": [
      "-rw-r--r-- 1 jupyter-juggler03 jupyter-juggler03 332 Sep 22 11:56 ./myarchive.tar.gz\n"
     ]
    }
   ],
   "source": [
    "ls -l ./myarchive.tar.gz"
   ]
  },
  {
   "cell_type": "code",
   "execution_count": 35,
   "id": "f9f43e39-249d-463e-97ac-df12c7e54884",
   "metadata": {},
   "outputs": [
    {
     "name": "stdout",
     "output_type": "stream",
     "text": [
      "1.fasta   4.fasta  8.fasta\tfile10.fasta  file5.fasta  file9.fasta\n",
      "1.seq\t  4.seq    8.seq\tfile10.seq    file5.seq    file9.seq\n",
      "10.fasta  5.fasta  9.fasta\tfile2.fasta   file6.fasta  myarchive.tar.gz\n",
      "10.seq\t  5.seq    9.seq\tfile2.seq     file6.seq    zeit.txt\n",
      "2.fasta   6.fasta  Test\t\tfile3.fasta   file7.fasta\n",
      "2.seq\t  6.seq    file\t\tfile3.seq     file7.seq\n",
      "3.fasta   7.fasta  file1.fasta\tfile4.fasta   file8.fasta\n",
      "3.seq\t  7.seq    file1.seq\tfile4.seq     file8.seq\n"
     ]
    }
   ],
   "source": [
    "ls"
   ]
  },
  {
   "cell_type": "code",
   "execution_count": 36,
   "id": "f0f17596-8f00-4778-b203-726c4e8b2144",
   "metadata": {},
   "outputs": [],
   "source": [
    "mv ./myarchive.tar.gz Test"
   ]
  },
  {
   "cell_type": "code",
   "execution_count": 37,
   "id": "2cfd9b43-cd7c-42f6-96c3-0c9cb6ef3355",
   "metadata": {},
   "outputs": [
    {
     "name": "stdout",
     "output_type": "stream",
     "text": [
      "1.fasta   3.seq    7.fasta  file\t  file3.fasta  file6.seq    zeit.txt\n",
      "1.seq\t  4.fasta  7.seq    file1.fasta   file3.seq    file7.fasta\n",
      "10.fasta  4.seq    8.fasta  file1.seq\t  file4.fasta  file7.seq\n",
      "10.seq\t  5.fasta  8.seq    file10.fasta  file4.seq    file8.fasta\n",
      "2.fasta   5.seq    9.fasta  file10.seq\t  file5.fasta  file8.seq\n",
      "2.seq\t  6.fasta  9.seq    file2.fasta   file5.seq    file9.fasta\n",
      "3.fasta   6.seq    Test     file2.seq\t  file6.fasta  file9.seq\n"
     ]
    }
   ],
   "source": [
    "ls"
   ]
  },
  {
   "cell_type": "code",
   "execution_count": 38,
   "id": "8344f9b9-4b78-478c-91a2-b24ff62601ef",
   "metadata": {},
   "outputs": [
    {
     "name": "stdout",
     "output_type": "stream",
     "text": [
      "myarchive.tar.gz\n"
     ]
    }
   ],
   "source": [
    "ls Test"
   ]
  },
  {
   "cell_type": "code",
   "execution_count": 39,
   "id": "cdfd1ff1-d5d2-4e86-89b2-21c0b416a78f",
   "metadata": {},
   "outputs": [],
   "source": [
    "cd Test"
   ]
  },
  {
   "cell_type": "code",
   "execution_count": 40,
   "id": "cc585976-fd6c-4829-a60e-f6b884c2c472",
   "metadata": {},
   "outputs": [
    {
     "name": "stdout",
     "output_type": "stream",
     "text": [
      "/home/jupyter-juggler03/Playground/Test\n"
     ]
    }
   ],
   "source": [
    "pwd"
   ]
  },
  {
   "cell_type": "code",
   "execution_count": 41,
   "id": "9a794938-3647-4ebd-a123-cb83c5799d75",
   "metadata": {},
   "outputs": [
    {
     "name": "stdout",
     "output_type": "stream",
     "text": [
      "1.seq\n",
      "10.seq\n",
      "2.seq\n",
      "3.seq\n",
      "4.seq\n",
      "5.seq\n",
      "6.seq\n",
      "7.seq\n",
      "8.seq\n",
      "9.seq\n",
      "file1.seq\n",
      "file10.seq\n",
      "file2.seq\n",
      "file3.seq\n",
      "file4.seq\n",
      "file5.seq\n",
      "file6.seq\n",
      "file7.seq\n",
      "file8.seq\n",
      "file9.seq\n"
     ]
    }
   ],
   "source": [
    "tar -tf ./myarchive.tar.gz"
   ]
  },
  {
   "cell_type": "code",
   "execution_count": 42,
   "id": "5bae11cb-f325-4b55-beda-02b0e2d03096",
   "metadata": {},
   "outputs": [],
   "source": [
    "tar -xf ./myarchive.tar.gz file2.seq file7.seq"
   ]
  },
  {
   "cell_type": "code",
   "execution_count": 43,
   "id": "7d0b2648-9036-40b1-8ca8-f5896029f207",
   "metadata": {},
   "outputs": [
    {
     "name": "stdout",
     "output_type": "stream",
     "text": [
      "file2.seq  file7.seq  myarchive.tar.gz\n"
     ]
    }
   ],
   "source": [
    "ls"
   ]
  },
  {
   "cell_type": "code",
   "execution_count": 44,
   "id": "371fc0f6-964d-462d-9e06-a6f19295c0ea",
   "metadata": {},
   "outputs": [],
   "source": [
    "mv file2.seq file02.seq"
   ]
  },
  {
   "cell_type": "code",
   "execution_count": 45,
   "id": "fe9e1c2f-ab08-45e3-a6da-f30c7614a819",
   "metadata": {},
   "outputs": [
    {
     "name": "stdout",
     "output_type": "stream",
     "text": [
      "file02.seq  file7.seq  myarchive.tar.gz\n"
     ]
    }
   ],
   "source": [
    "ls"
   ]
  },
  {
   "cell_type": "code",
   "execution_count": 46,
   "id": "dc9b917b-9988-4505-8594-3aba593c5f07",
   "metadata": {},
   "outputs": [],
   "source": [
    "cp file7.seq file07.seq"
   ]
  },
  {
   "cell_type": "code",
   "execution_count": 47,
   "id": "97dc4a80-47d9-4891-9c2c-3ae49d1eccc5",
   "metadata": {},
   "outputs": [
    {
     "name": "stdout",
     "output_type": "stream",
     "text": [
      "file02.seq  file07.seq\tfile7.seq  myarchive.tar.gz\n"
     ]
    }
   ],
   "source": [
    "ls"
   ]
  },
  {
   "cell_type": "code",
   "execution_count": 48,
   "id": "9f222fb3-d93e-4865-88e6-2d46f07cc6dc",
   "metadata": {},
   "outputs": [],
   "source": [
    "rm file0*"
   ]
  },
  {
   "cell_type": "code",
   "execution_count": 49,
   "id": "63bc0b86-ee96-4407-9d47-a7faefe4c56b",
   "metadata": {},
   "outputs": [
    {
     "name": "stdout",
     "output_type": "stream",
     "text": [
      "file7.seq  myarchive.tar.gz\n"
     ]
    }
   ],
   "source": [
    "ls"
   ]
  },
  {
   "cell_type": "code",
   "execution_count": 50,
   "id": "ba92cb56-2df1-4cc6-963d-932ee9f12483",
   "metadata": {},
   "outputs": [
    {
     "name": "stdout",
     "output_type": "stream",
     "text": [
      "/home/jupyter-juggler03/Playground/Test\n"
     ]
    }
   ],
   "source": [
    "pwd"
   ]
  },
  {
   "cell_type": "code",
   "execution_count": 51,
   "id": "06d6b180-083a-41f9-aec9-350a85337360",
   "metadata": {},
   "outputs": [],
   "source": [
    "cd .."
   ]
  },
  {
   "cell_type": "code",
   "execution_count": 52,
   "id": "85aba6a7-b903-41a0-8952-93b18523b820",
   "metadata": {},
   "outputs": [
    {
     "name": "stdout",
     "output_type": "stream",
     "text": [
      "/home/jupyter-juggler03/Playground\n"
     ]
    }
   ],
   "source": [
    "pwd"
   ]
  },
  {
   "cell_type": "code",
   "execution_count": null,
   "id": "ee3eada8-57b8-46cf-abdc-27eb78e0cd6e",
   "metadata": {},
   "outputs": [],
   "source": []
  }
 ],
 "metadata": {
  "kernelspec": {
   "display_name": "Bash",
   "language": "bash",
   "name": "bash"
  },
  "language_info": {
   "codemirror_mode": "shell",
   "file_extension": ".sh",
   "mimetype": "text/x-sh",
   "name": "bash"
  }
 },
 "nbformat": 4,
 "nbformat_minor": 5
}
