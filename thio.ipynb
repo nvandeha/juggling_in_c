{
 "cells": [
  {
   "cell_type": "markdown",
   "id": "03c4bb92-e3aa-4694-8517-db05c541cfae",
   "metadata": {},
   "source": [
    "# Chapter 22 – Querying for Potential Redox-Regulated Enzymes\n",
    "The focal point of this example lies within biochemistry, particularly the regulatory mechanisms of enzymes involving disulfide bond formation or cleavage near the protein surface. Thioredoxins, a group of proteins, play a pivotal role in catalyzing, e.g., reactions of the Calvin cycle. Interestingly, a comparison of primary structures reveals the absence of a consensus motif in most thioredoxin-regulated enzymes. To uncover potential enzyme targets for thioredoxin, the examination of protein structure data is essential. The approach in this project entails pinpointing cysteine sulfur atoms within a 3 Å radius, proximal to the surface. How is this achieved? We combine the power of Jmol, AWK, and shell programming. Essential to this quest is the need for an algorithm to compute the accessible surface area of macromolecules. Fortunately, Jmol boasts an integrated algorithm tailored for this purpose.\n",
    "\n",
    "## Installations\n",
    "\n",
    "Install Jmol with: `sudo apt install -y jmol`"
   ]
  },
  {
   "cell_type": "markdown",
   "id": "1dab6370-666a-4123-9060-865d581d9af6",
   "metadata": {},
   "source": [
    "## Download 1FRF and 1FRV"
   ]
  },
  {
   "cell_type": "code",
   "execution_count": null,
   "id": "965007e6-279a-4f43-9bce-605eab0d3913",
   "metadata": {},
   "outputs": [],
   "source": [
    "wget 'https://files.rcsb.org/download/1FRF.pdb'"
   ]
  },
  {
   "cell_type": "code",
   "execution_count": null,
   "id": "b6f95954-930e-4523-8807-9588adfb89f8",
   "metadata": {},
   "outputs": [],
   "source": [
    "wget 'https://files.rcsb.org/download/1FRV.pdb'"
   ]
  },
  {
   "cell_type": "markdown",
   "id": "bc8a255d-444b-4b85-9a82-f91c1c5b0b5e",
   "metadata": {},
   "source": [
    "# Visual Inspection\r\n",
    "\r\n",
    "Run `jmol` and use the following commands:\r\n",
    "```\r\n",
    "select all\r\n",
    "spacefill 50\r\n",
    "select cys and sulfur\r\n",
    "color yellow\r\n",
    "spacefill 250\r\n",
    "monitor 3914 5273\r\n",
    "```"
   ]
  },
  {
   "cell_type": "markdown",
   "id": "fc179187-9b86-418d-a8c8-3ed3c65e5284",
   "metadata": {},
   "source": [
    "## Computational Inspection\n",
    "Requires the following script:\n",
    "```\n",
    "# save as distance.awk\n",
    "# searches close cysteine sulfur atoms in a structure\n",
    "# requires a structure file (*.pdb)\n",
    "# usage: awk -f distance.awk structure.pdb\n",
    "\n",
    "BEGIN{print \"Cysteines in the Structure...\"; ORS=\"\"}\n",
    "\n",
    "$1==\"ATOM\" && $4==\"CYS\" && $3==\"SG\" {\n",
    "print $4$6\", \"\n",
    "cys_x[$6]=$7; cys_y[$6]=$8; cys_z[$6]=$9\n",
    "}\n",
    "\n",
    "END{ ORS=\"\\n\"\n",
    "for (key1 in cys_x) {\n",
    "  for (key2 in cys_x) { \n",
    "      dx=cys_x[key1]-cys_x[key2]\n",
    "      dy=cys_y[key1]-cys_y[key2]\n",
    "      dz=cys_z[key1]-cys_z[key2]\n",
    "      distance=sqrt(dx^2+dy^2+dz^2)\n",
    "      if (distance < 3 && distance != 0 && key1<key2) {\n",
    "        i++\n",
    "        candidate[i]=key1\"-\"key2\": \"distance\n",
    "      }\n",
    "  }\n",
    "}\n",
    "print \"\\nCandidates ...\"\n",
    "for (keys in candidate) {print candidate[keys]}\n",
    "}\n",
    "```"
   ]
  },
  {
   "cell_type": "code",
   "execution_count": 1,
   "id": "cf1b61b3-3f58-4308-a9b4-d5a09b363907",
   "metadata": {},
   "outputs": [
    {
     "name": "stdout",
     "output_type": "stream",
     "text": [
      "Cysteines in the Structure...\n",
      "CYS17, CYS20, CYS98, CYS110, CYS114, CYS147, CYS187, CYS212, CYS218, CYS227, CYS245, CYS248, CYS72, CYS75, CYS86, CYS237, CYS259, CYS265, CYS436, CYS457, CYS543, CYS546, \n",
      "Candidates ...\n",
      "75-546: 2.41976\n",
      "259-436: 2.55824\n"
     ]
    }
   ],
   "source": [
    "awk -f distance.awk 1FRF.pdb"
   ]
  },
  {
   "cell_type": "code",
   "execution_count": 2,
   "id": "9767b99a-1da8-4693-8ec5-ac2d4b00d909",
   "metadata": {},
   "outputs": [
    {
     "name": "stdout",
     "output_type": "stream",
     "text": [
      "Cysteines in the Structure...\n",
      "CYS17, CYS20, CYS70, CYS96, CYS112, CYS148, CYS188, CYS213, CYS219, CYS228, CYS246, CYS249, CYS65, CYS68, CYS83, CYS228, CYS283, CYS418, CYS494, CYS530, CYS533, CYS17, CYS20, CYS70, CYS96, CYS112, CYS148, CYS188, CYS213, CYS219, CYS228, CYS246, CYS249, CYS65, CYS68, CYS83, CYS228, CYS283, CYS418, CYS494, CYS530, CYS533, \n",
      "Candidates ...\n",
      "65-530: 2.91756\n",
      "68-533: 2.94816\n"
     ]
    }
   ],
   "source": [
    "awk -f distance.awk 1FRV.pdb"
   ]
  },
  {
   "cell_type": "markdown",
   "id": "98134696-42bf-4c77-93f5-b3fcd486ed40",
   "metadata": {},
   "source": [
    "Run in Jmol\n",
    "```\n",
    "load =1FRF\n",
    "hide water                    # remove water molecules\n",
    "spacefill off                 # reduce atom spheres\n",
    "select cys436.sg, cys259.sg, cys75.sg, cys546.sg   # select SG atoms\n",
    "spacefill 300\n",
    "```"
   ]
  },
  {
   "cell_type": "markdown",
   "id": "29e62dfc-20ce-4083-9288-5b8466b71341",
   "metadata": {},
   "source": [
    "### Download PDB IDs\n",
    "Download all IDs as described in the book with the following parameters:\n",
    "- were derived from \\textit{Escherichia} (either directly or via over-expression)\n",
    "- have an X-ray resolution less than 2 Angström\n",
    "- consist of one single protein chain\n",
    "\n",
    "Save the IDs as comma-separated list in *ids.txt*."
   ]
  },
  {
   "cell_type": "markdown",
   "id": "c565756f-53c2-4d60-a422-6a560c2b6e0f",
   "metadata": {},
   "source": [
    "### Download PDB Script"
   ]
  },
  {
   "cell_type": "code",
   "execution_count": null,
   "id": "6bc7f644-dfa6-47ec-bf21-2886c7bc299a",
   "metadata": {},
   "outputs": [],
   "source": [
    "wget \"https://www.rcsb.org/scripts/batch_download.sh\""
   ]
  },
  {
   "cell_type": "code",
   "execution_count": null,
   "id": "7d56c337-ea1a-4323-903a-fdafca86c7f5",
   "metadata": {},
   "outputs": [],
   "source": [
    "chmod u+x batch_download.sh"
   ]
  },
  {
   "cell_type": "code",
   "execution_count": null,
   "id": "f2a11c10-885a-483a-88d5-b91a2e71d93f",
   "metadata": {},
   "outputs": [],
   "source": [
    "mkdir EcoliStructures"
   ]
  },
  {
   "cell_type": "code",
   "execution_count": null,
   "id": "3f824293-1179-4cf7-a1a0-8841028a3a82",
   "metadata": {},
   "outputs": [],
   "source": [
    "cut -c 1-499 ids.txt > ids-100.txt # extract first 100 IDs"
   ]
  },
  {
   "cell_type": "code",
   "execution_count": null,
   "id": "d6115f50-0047-4a8a-8eac-65cdf32779e1",
   "metadata": {
    "scrolled": true
   },
   "outputs": [],
   "source": [
    "./batch_download.sh -f ids-100.txt -o EcoliStructures -p"
   ]
  },
  {
   "cell_type": "code",
   "execution_count": null,
   "id": "77804c31-3a57-4fd8-a1a8-de24ff0cede9",
   "metadata": {
    "scrolled": true
   },
   "outputs": [],
   "source": [
    "for i in $(sed 's/,/ /g' ids-100.txt); do wget -P EcoliStructures2 \"https://files.rcsb.org/download/$i.pdb\" ; done"
   ]
  },
  {
   "cell_type": "markdown",
   "id": "83b6e2a3-9f46-48af-b904-a02b679e9d5e",
   "metadata": {},
   "source": [
    "### Batch Analysis"
   ]
  },
  {
   "cell_type": "code",
   "execution_count": null,
   "id": "83362429-e292-4278-91a1-964da20869ab",
   "metadata": {},
   "outputs": [],
   "source": [
    "for i in EcoliStructures2/*.pdb; do awk -f distance-batch.awk $i; done"
   ]
  },
  {
   "cell_type": "code",
   "execution_count": null,
   "id": "d5fa43e6-ce75-4b66-b502-8a3782b57911",
   "metadata": {},
   "outputs": [],
   "source": [
    "for i in *.pdb; do awk -f distance-batch.awk $i; done"
   ]
  },
  {
   "cell_type": "markdown",
   "id": "1fdfef58-c1e3-4e87-92dd-5236ca63aac7",
   "metadata": {},
   "source": [
    "### Open in Jmol\n",
    "Use the command `jmol -s EcoliStructures2/1B8J.pdb.script` to view a structure in Jmol."
   ]
  }
 ],
 "metadata": {
  "kernelspec": {
   "display_name": "Bash",
   "language": "bash",
   "name": "bash"
  },
  "language_info": {
   "codemirror_mode": "shell",
   "file_extension": ".sh",
   "mimetype": "text/x-sh",
   "name": "bash"
  }
 },
 "nbformat": 4,
 "nbformat_minor": 5
}
