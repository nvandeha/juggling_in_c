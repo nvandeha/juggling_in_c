{
 "cells": [
  {
   "cell_type": "markdown",
   "id": "eb63a0f6-9862-4e58-9c37-438596888b70",
   "metadata": {},
   "source": [
    "# My Notebook\n",
    "## Bash Basics\n",
    "- piping, redirecting\n",
    "- functions\n",
    "\n",
    "<div class=\"alert alert-block alert-info\">\n",
    "    <b>NOTE:</b> Do not use interactive tools like <i>less</i> in the Jupyter notebook cells.\n",
    "</div>"
   ]
  },
  {
   "cell_type": "code",
   "execution_count": 1,
   "id": "19e1576a-7920-44af-a318-0a76c4ef6443",
   "metadata": {},
   "outputs": [
    {
     "name": "stdout",
     "output_type": "stream",
     "text": [
      "Mon Sep 22 11:28:08 CEST 2025\n"
     ]
    }
   ],
   "source": [
    "date # print the date"
   ]
  },
  {
   "cell_type": "code",
   "execution_count": 2,
   "id": "69c1479c-8dc6-4ee7-80ff-15674e9376c4",
   "metadata": {},
   "outputs": [],
   "source": [
    "zeit() { date | awk '{print $4}'; }"
   ]
  },
  {
   "cell_type": "code",
   "execution_count": 3,
   "id": "0355dd7c-7577-434e-9bc6-594fbc13bf63",
   "metadata": {},
   "outputs": [
    {
     "name": "stdout",
     "output_type": "stream",
     "text": [
      "11:28:09\n"
     ]
    }
   ],
   "source": [
    "zeit"
   ]
  },
  {
   "cell_type": "code",
   "execution_count": 4,
   "id": "7f1771a4-0902-491d-a62f-25c31a59fe18",
   "metadata": {},
   "outputs": [
    {
     "name": "stdout",
     "output_type": "stream",
     "text": [
      "/home/jupyter-juggler00\n"
     ]
    }
   ],
   "source": [
    "pwd"
   ]
  },
  {
   "cell_type": "code",
   "execution_count": 5,
   "id": "bed5972c-55a2-4670-b2e4-568dc73fa84b",
   "metadata": {},
   "outputs": [],
   "source": [
    "cd Playground"
   ]
  },
  {
   "cell_type": "code",
   "execution_count": 6,
   "id": "395879e9-a6ca-4a37-99c2-374aaf70a3d3",
   "metadata": {},
   "outputs": [
    {
     "name": "stdout",
     "output_type": "stream",
     "text": [
      "zeit.txt\n"
     ]
    }
   ],
   "source": [
    "ls"
   ]
  },
  {
   "cell_type": "code",
   "execution_count": 7,
   "id": "cf84e12f-5d35-49cb-a385-8a40a9758f4c",
   "metadata": {},
   "outputs": [
    {
     "name": "stdout",
     "output_type": "stream",
     "text": [
      "11:09:40\n",
      "11:10:23\n"
     ]
    }
   ],
   "source": [
    "head zeit.txt"
   ]
  },
  {
   "cell_type": "code",
   "execution_count": 9,
   "id": "f0f40006-5514-458c-a8bf-178bdba41bd4",
   "metadata": {},
   "outputs": [
    {
     "name": "stdout",
     "output_type": "stream",
     "text": [
      "/home/jupyter-juggler00/Playground\n"
     ]
    }
   ],
   "source": [
    "pwd"
   ]
  },
  {
   "cell_type": "code",
   "execution_count": 10,
   "id": "15b49ad1-2b54-48ba-b0a3-4f0581fd0823",
   "metadata": {},
   "outputs": [
    {
     "name": "stdout",
     "output_type": "stream",
     "text": [
      "zeit.txt\n"
     ]
    }
   ],
   "source": [
    "ls"
   ]
  },
  {
   "cell_type": "code",
   "execution_count": 11,
   "id": "572d23cf-20c4-4a2d-81c2-5e498da33db1",
   "metadata": {},
   "outputs": [
    {
     "name": "stdout",
     "output_type": "stream",
     "text": [
      "11:30:30\n"
     ]
    }
   ],
   "source": [
    "zeit"
   ]
  },
  {
   "cell_type": "code",
   "execution_count": 15,
   "id": "6faed659-1cc4-4c60-8702-03faccd63762",
   "metadata": {},
   "outputs": [],
   "source": [
    "for i in {1..20}; do zeit >> zeit.txt; done"
   ]
  },
  {
   "cell_type": "code",
   "execution_count": 17,
   "id": "dc5b3d70-d616-43e9-abde-c81ab8827e37",
   "metadata": {},
   "outputs": [
    {
     "name": "stdout",
     "output_type": "stream",
     "text": [
      "11:09:40\n",
      "11:10:23\n",
      "11:33:03\n"
     ]
    }
   ],
   "source": [
    "head -3 zeit.txt"
   ]
  },
  {
   "cell_type": "code",
   "execution_count": 18,
   "id": "a3f7be82-753a-4efe-811d-1428d7b685e5",
   "metadata": {},
   "outputs": [],
   "source": [
    "touch file{1..10}.{seq,fasta}"
   ]
  },
  {
   "cell_type": "code",
   "execution_count": 19,
   "id": "2ec1d73b-a21b-4d19-9edb-0d544a963269",
   "metadata": {},
   "outputs": [
    {
     "name": "stdout",
     "output_type": "stream",
     "text": [
      "file1.fasta   file2.fasta  file4.fasta\tfile6.fasta  file8.fasta  zeit.txt\n",
      "file1.seq     file2.seq    file4.seq\tfile6.seq    file8.seq\n",
      "file10.fasta  file3.fasta  file5.fasta\tfile7.fasta  file9.fasta\n",
      "file10.seq    file3.seq    file5.seq\tfile7.seq    file9.seq\n"
     ]
    }
   ],
   "source": [
    "ls"
   ]
  },
  {
   "cell_type": "code",
   "execution_count": 20,
   "id": "2260dfda-48ef-4c02-8e55-3c3d914211f3",
   "metadata": {},
   "outputs": [
    {
     "name": "stdout",
     "output_type": "stream",
     "text": [
      "total 4\n",
      "-rw-r--r-- 1 jupyter-juggler00 jupyter-juggler00   0 Sep 22 11:44 file1.fasta\n",
      "-rw-r--r-- 1 jupyter-juggler00 jupyter-juggler00   0 Sep 22 11:44 file1.seq\n",
      "-rw-r--r-- 1 jupyter-juggler00 jupyter-juggler00   0 Sep 22 11:44 file10.fasta\n",
      "-rw-r--r-- 1 jupyter-juggler00 jupyter-juggler00   0 Sep 22 11:44 file10.seq\n",
      "-rw-r--r-- 1 jupyter-juggler00 jupyter-juggler00   0 Sep 22 11:44 file2.fasta\n",
      "-rw-r--r-- 1 jupyter-juggler00 jupyter-juggler00   0 Sep 22 11:44 file2.seq\n",
      "-rw-r--r-- 1 jupyter-juggler00 jupyter-juggler00   0 Sep 22 11:44 file3.fasta\n",
      "-rw-r--r-- 1 jupyter-juggler00 jupyter-juggler00   0 Sep 22 11:44 file3.seq\n",
      "-rw-r--r-- 1 jupyter-juggler00 jupyter-juggler00   0 Sep 22 11:44 file4.fasta\n",
      "-rw-r--r-- 1 jupyter-juggler00 jupyter-juggler00   0 Sep 22 11:44 file4.seq\n",
      "-rw-r--r-- 1 jupyter-juggler00 jupyter-juggler00   0 Sep 22 11:44 file5.fasta\n",
      "-rw-r--r-- 1 jupyter-juggler00 jupyter-juggler00   0 Sep 22 11:44 file5.seq\n",
      "-rw-r--r-- 1 jupyter-juggler00 jupyter-juggler00   0 Sep 22 11:44 file6.fasta\n",
      "-rw-r--r-- 1 jupyter-juggler00 jupyter-juggler00   0 Sep 22 11:44 file6.seq\n",
      "-rw-r--r-- 1 jupyter-juggler00 jupyter-juggler00   0 Sep 22 11:44 file7.fasta\n",
      "-rw-r--r-- 1 jupyter-juggler00 jupyter-juggler00   0 Sep 22 11:44 file7.seq\n",
      "-rw-r--r-- 1 jupyter-juggler00 jupyter-juggler00   0 Sep 22 11:44 file8.fasta\n",
      "-rw-r--r-- 1 jupyter-juggler00 jupyter-juggler00   0 Sep 22 11:44 file8.seq\n",
      "-rw-r--r-- 1 jupyter-juggler00 jupyter-juggler00   0 Sep 22 11:44 file9.fasta\n",
      "-rw-r--r-- 1 jupyter-juggler00 jupyter-juggler00   0 Sep 22 11:44 file9.seq\n",
      "-rw-r--r-- 1 jupyter-juggler00 jupyter-juggler00 198 Sep 22 11:33 zeit.txt\n"
     ]
    }
   ],
   "source": [
    "ls -l"
   ]
  },
  {
   "cell_type": "code",
   "execution_count": 21,
   "id": "35a68247-aa35-4711-b9a8-e3aa12de5fe5",
   "metadata": {},
   "outputs": [],
   "source": [
    "mkdir Test"
   ]
  },
  {
   "cell_type": "code",
   "execution_count": 22,
   "id": "a522b24f-e1ac-46f6-ae22-3ea2596aa44a",
   "metadata": {},
   "outputs": [
    {
     "name": "stdout",
     "output_type": "stream",
     "text": [
      "total 8\n",
      "drwxr-xr-x 2 jupyter-juggler00 jupyter-juggler00 4096 Sep 22 11:49 Test\n",
      "-rw-r--r-- 1 jupyter-juggler00 jupyter-juggler00    0 Sep 22 11:44 file1.fasta\n",
      "-rw-r--r-- 1 jupyter-juggler00 jupyter-juggler00    0 Sep 22 11:44 file1.seq\n",
      "-rw-r--r-- 1 jupyter-juggler00 jupyter-juggler00    0 Sep 22 11:44 file10.fasta\n",
      "-rw-r--r-- 1 jupyter-juggler00 jupyter-juggler00    0 Sep 22 11:44 file10.seq\n",
      "-rw-r--r-- 1 jupyter-juggler00 jupyter-juggler00    0 Sep 22 11:44 file2.fasta\n",
      "-rw-r--r-- 1 jupyter-juggler00 jupyter-juggler00    0 Sep 22 11:44 file2.seq\n",
      "-rw-r--r-- 1 jupyter-juggler00 jupyter-juggler00    0 Sep 22 11:44 file3.fasta\n",
      "-rw-r--r-- 1 jupyter-juggler00 jupyter-juggler00    0 Sep 22 11:44 file3.seq\n",
      "-rw-r--r-- 1 jupyter-juggler00 jupyter-juggler00    0 Sep 22 11:44 file4.fasta\n",
      "-rw-r--r-- 1 jupyter-juggler00 jupyter-juggler00    0 Sep 22 11:44 file4.seq\n",
      "-rw-r--r-- 1 jupyter-juggler00 jupyter-juggler00    0 Sep 22 11:44 file5.fasta\n",
      "-rw-r--r-- 1 jupyter-juggler00 jupyter-juggler00    0 Sep 22 11:44 file5.seq\n",
      "-rw-r--r-- 1 jupyter-juggler00 jupyter-juggler00    0 Sep 22 11:44 file6.fasta\n",
      "-rw-r--r-- 1 jupyter-juggler00 jupyter-juggler00    0 Sep 22 11:44 file6.seq\n",
      "-rw-r--r-- 1 jupyter-juggler00 jupyter-juggler00    0 Sep 22 11:44 file7.fasta\n",
      "-rw-r--r-- 1 jupyter-juggler00 jupyter-juggler00    0 Sep 22 11:44 file7.seq\n",
      "-rw-r--r-- 1 jupyter-juggler00 jupyter-juggler00    0 Sep 22 11:44 file8.fasta\n",
      "-rw-r--r-- 1 jupyter-juggler00 jupyter-juggler00    0 Sep 22 11:44 file8.seq\n",
      "-rw-r--r-- 1 jupyter-juggler00 jupyter-juggler00    0 Sep 22 11:44 file9.fasta\n",
      "-rw-r--r-- 1 jupyter-juggler00 jupyter-juggler00    0 Sep 22 11:44 file9.seq\n",
      "-rw-r--r-- 1 jupyter-juggler00 jupyter-juggler00  198 Sep 22 11:33 zeit.txt\n"
     ]
    }
   ],
   "source": [
    "ls -l"
   ]
  },
  {
   "cell_type": "code",
   "execution_count": 23,
   "id": "a43b94cd-16dd-4e1d-aae1-5f474bb5d1a5",
   "metadata": {},
   "outputs": [],
   "source": [
    "touch file3.seq"
   ]
  },
  {
   "cell_type": "code",
   "execution_count": 24,
   "id": "3f25d520-9e23-4020-9b79-3740f7653322",
   "metadata": {},
   "outputs": [
    {
     "name": "stdout",
     "output_type": "stream",
     "text": [
      "-rw-r--r-- 1 jupyter-juggler00 jupyter-juggler00 0 Sep 22 11:44 file3.fasta\n",
      "-rw-r--r-- 1 jupyter-juggler00 jupyter-juggler00 0 Sep 22 11:51 file3.seq\n"
     ]
    }
   ],
   "source": [
    "ls -l file3.*"
   ]
  },
  {
   "cell_type": "code",
   "execution_count": 25,
   "id": "5e90518d-a750-49bd-85ce-506787be9e0c",
   "metadata": {},
   "outputs": [
    {
     "name": "stdout",
     "output_type": "stream",
     "text": [
      "file1.fasta   file2.fasta  file4.fasta\tfile6.fasta  file8.fasta\n",
      "file10.fasta  file3.fasta  file5.fasta\tfile7.fasta  file9.fasta\n"
     ]
    }
   ],
   "source": [
    "ls *.fasta"
   ]
  },
  {
   "cell_type": "markdown",
   "id": "b6d9ca0f-1a21-4345-8a68-a40d47827bef",
   "metadata": {},
   "source": [
    "## File Archives"
   ]
  },
  {
   "cell_type": "code",
   "execution_count": 26,
   "id": "515f91ab-c9dd-49e3-858e-123574b74984",
   "metadata": {},
   "outputs": [],
   "source": [
    "tar -cf myarchive.tar *.seq"
   ]
  },
  {
   "cell_type": "code",
   "execution_count": 27,
   "id": "c6a5a40c-fcde-48f1-96d4-f3dda871661f",
   "metadata": {},
   "outputs": [
    {
     "name": "stdout",
     "output_type": "stream",
     "text": [
      "Test\t      file10.seq   file3.seq\tfile5.seq    file7.seq\t  file9.seq\n",
      "file1.fasta   file2.fasta  file4.fasta\tfile6.fasta  file8.fasta  myarchive.tar\n",
      "file1.seq     file2.seq    file4.seq\tfile6.seq    file8.seq\t  zeit.txt\n",
      "file10.fasta  file3.fasta  file5.fasta\tfile7.fasta  file9.fasta\n"
     ]
    }
   ],
   "source": [
    "ls"
   ]
  },
  {
   "cell_type": "code",
   "execution_count": 29,
   "id": "e2bfe1c8-0341-4698-bedd-3575bdf6e629",
   "metadata": {},
   "outputs": [
    {
     "name": "stdout",
     "output_type": "stream",
     "text": [
      "-rw-r--r-- 1 jupyter-juggler00 jupyter-juggler00 10K Sep 22 11:56 ./myarchive.tar\n"
     ]
    }
   ],
   "source": [
    "ls -lh ./myarchive.tar"
   ]
  },
  {
   "cell_type": "code",
   "execution_count": 30,
   "id": "f731adcc-bd63-4ae0-b920-0dba72724a29",
   "metadata": {},
   "outputs": [
    {
     "name": "stdout",
     "output_type": "stream",
     "text": [
      "file1.seq\n",
      "file10.seq\n",
      "file2.seq\n",
      "file3.seq\n",
      "file4.seq\n",
      "file5.seq\n",
      "file6.seq\n",
      "file7.seq\n",
      "file8.seq\n",
      "file9.seq\n"
     ]
    }
   ],
   "source": [
    "tar -tf ./myarchive.tar"
   ]
  },
  {
   "cell_type": "code",
   "execution_count": 31,
   "id": "01206dd1-0c27-4a0d-8776-6eb415a928c7",
   "metadata": {},
   "outputs": [],
   "source": [
    "gzip ./myarchive.tar"
   ]
  },
  {
   "cell_type": "code",
   "execution_count": 32,
   "id": "eb56a84d-9288-495d-992a-6ca02f2f90f3",
   "metadata": {},
   "outputs": [
    {
     "name": "stdout",
     "output_type": "stream",
     "text": [
      "-rw-r--r-- 1 jupyter-juggler00 jupyter-juggler00 230 Sep 22 11:56 ./myarchive.tar.gz\n"
     ]
    }
   ],
   "source": [
    "ls -l ./myarchive.tar.gz"
   ]
  },
  {
   "cell_type": "code",
   "execution_count": 33,
   "id": "3c8c73e5-a057-4837-878d-d80e67f2c6b7",
   "metadata": {},
   "outputs": [
    {
     "name": "stdout",
     "output_type": "stream",
     "text": [
      "Test\t      file2.fasta  file4.seq\tfile7.fasta  file9.seq\n",
      "file1.fasta   file2.seq    file5.fasta\tfile7.seq    myarchive.tar.gz\n",
      "file1.seq     file3.fasta  file5.seq\tfile8.fasta  zeit.txt\n",
      "file10.fasta  file3.seq    file6.fasta\tfile8.seq\n",
      "file10.seq    file4.fasta  file6.seq\tfile9.fasta\n"
     ]
    }
   ],
   "source": [
    "ls"
   ]
  },
  {
   "cell_type": "code",
   "execution_count": 34,
   "id": "7b8f74fa-10c4-4b9d-a659-a3a5c35193e8",
   "metadata": {},
   "outputs": [],
   "source": [
    "mv myarchive.tar.gz Test"
   ]
  },
  {
   "cell_type": "code",
   "execution_count": 35,
   "id": "fff872c6-8766-4370-87ff-95b6a85873fe",
   "metadata": {},
   "outputs": [
    {
     "name": "stdout",
     "output_type": "stream",
     "text": [
      "Test\t      file10.seq   file3.seq\tfile5.seq    file7.seq\t  file9.seq\n",
      "file1.fasta   file2.fasta  file4.fasta\tfile6.fasta  file8.fasta  zeit.txt\n",
      "file1.seq     file2.seq    file4.seq\tfile6.seq    file8.seq\n",
      "file10.fasta  file3.fasta  file5.fasta\tfile7.fasta  file9.fasta\n"
     ]
    }
   ],
   "source": [
    "ls"
   ]
  },
  {
   "cell_type": "code",
   "execution_count": 36,
   "id": "dac7fc3d-662a-4e6c-9c6b-b46d49b0e5fe",
   "metadata": {},
   "outputs": [
    {
     "name": "stdout",
     "output_type": "stream",
     "text": [
      "myarchive.tar.gz\n"
     ]
    }
   ],
   "source": [
    "ls Test"
   ]
  },
  {
   "cell_type": "code",
   "execution_count": 37,
   "id": "5b3562fa-5e9c-485d-9bc1-2a9404f83cdf",
   "metadata": {},
   "outputs": [],
   "source": [
    "cd Test"
   ]
  },
  {
   "cell_type": "code",
   "execution_count": 38,
   "id": "81b7a56e-1dea-46c1-a162-af305d2dcb0c",
   "metadata": {},
   "outputs": [
    {
     "name": "stdout",
     "output_type": "stream",
     "text": [
      "/home/jupyter-juggler00/Playground/Test\n"
     ]
    }
   ],
   "source": [
    "pwd"
   ]
  },
  {
   "cell_type": "code",
   "execution_count": 39,
   "id": "155a851b-057c-414b-9322-6fb52cf6dc6d",
   "metadata": {},
   "outputs": [
    {
     "name": "stdout",
     "output_type": "stream",
     "text": [
      "file1.seq\n",
      "file10.seq\n",
      "file2.seq\n",
      "file3.seq\n",
      "file4.seq\n",
      "file5.seq\n",
      "file6.seq\n",
      "file7.seq\n",
      "file8.seq\n",
      "file9.seq\n"
     ]
    }
   ],
   "source": [
    "tar -tf ./myarchive.tar.gz"
   ]
  },
  {
   "cell_type": "code",
   "execution_count": 40,
   "id": "2e72ddc4-d2e0-4b30-b418-9dd6fda3daef",
   "metadata": {},
   "outputs": [],
   "source": [
    "tar -xf ./myarchive.tar.gz file2.seq file7.seq"
   ]
  },
  {
   "cell_type": "code",
   "execution_count": 41,
   "id": "d126a459-3bee-4f25-b39d-3041563fbe36",
   "metadata": {},
   "outputs": [
    {
     "name": "stdout",
     "output_type": "stream",
     "text": [
      "file2.seq  file7.seq  myarchive.tar.gz\n"
     ]
    }
   ],
   "source": [
    "ls"
   ]
  },
  {
   "cell_type": "code",
   "execution_count": 42,
   "id": "cbf2f8a9-5124-476a-89e6-e0011c3b81ea",
   "metadata": {},
   "outputs": [],
   "source": [
    "mv file2.seq file02.seq"
   ]
  },
  {
   "cell_type": "code",
   "execution_count": 43,
   "id": "4d355602-74ff-4c69-a9e4-f1eefd54335a",
   "metadata": {},
   "outputs": [
    {
     "name": "stdout",
     "output_type": "stream",
     "text": [
      "file02.seq  file7.seq  myarchive.tar.gz\n"
     ]
    }
   ],
   "source": [
    "ls"
   ]
  },
  {
   "cell_type": "code",
   "execution_count": 46,
   "id": "382884cb-2c03-41d9-9343-62c210860a4a",
   "metadata": {},
   "outputs": [],
   "source": [
    "cp file7.seq file07.seq"
   ]
  },
  {
   "cell_type": "code",
   "execution_count": 45,
   "id": "84afd57a-595d-4185-8f05-fdff421bce85",
   "metadata": {},
   "outputs": [
    {
     "name": "stdout",
     "output_type": "stream",
     "text": [
      "file02.seq  file07.seq\tfile7.seq  myarchive.tar.gz\n"
     ]
    }
   ],
   "source": [
    "ls"
   ]
  },
  {
   "cell_type": "code",
   "execution_count": 47,
   "id": "2cc992ac-58bb-4e9b-ad2e-7990178cfd65",
   "metadata": {},
   "outputs": [],
   "source": [
    "rm file0*"
   ]
  },
  {
   "cell_type": "code",
   "execution_count": 48,
   "id": "cbf6e7b0-6f03-4113-b8fe-50d30da71ec1",
   "metadata": {},
   "outputs": [
    {
     "name": "stdout",
     "output_type": "stream",
     "text": [
      "file7.seq  myarchive.tar.gz\n"
     ]
    }
   ],
   "source": [
    "ls"
   ]
  },
  {
   "cell_type": "code",
   "execution_count": 49,
   "id": "ba15aa69-553d-44a8-aac8-0ef026acf1d8",
   "metadata": {},
   "outputs": [
    {
     "name": "stdout",
     "output_type": "stream",
     "text": [
      "/home/jupyter-juggler00/Playground/Test\n"
     ]
    }
   ],
   "source": [
    "pwd"
   ]
  },
  {
   "cell_type": "code",
   "execution_count": 50,
   "id": "9d97355b-c734-4a88-a71c-70c40db90170",
   "metadata": {},
   "outputs": [],
   "source": [
    "cd .."
   ]
  },
  {
   "cell_type": "code",
   "execution_count": 51,
   "id": "7c2eb3ad-042d-4d3d-89f6-9bb3d1576aea",
   "metadata": {},
   "outputs": [
    {
     "name": "stdout",
     "output_type": "stream",
     "text": [
      "/home/jupyter-juggler00/Playground\n"
     ]
    }
   ],
   "source": [
    "pwd"
   ]
  },
  {
   "cell_type": "code",
   "execution_count": 52,
   "id": "2c266d0b-f09b-4610-b89f-164b31c6fda1",
   "metadata": {},
   "outputs": [
    {
     "name": "stdout",
     "output_type": "stream",
     "text": [
      "rm: cannot remove 'Test': Is a directory\n"
     ]
    },
    {
     "ename": "",
     "evalue": "1",
     "output_type": "error",
     "traceback": []
    }
   ],
   "source": [
    "rm Test"
   ]
  },
  {
   "cell_type": "code",
   "execution_count": 53,
   "id": "0f80e07b-fb90-4ec4-b47a-ee75d75d54a9",
   "metadata": {},
   "outputs": [],
   "source": [
    "rm -r Test"
   ]
  },
  {
   "cell_type": "code",
   "execution_count": null,
   "id": "8e80bb73-25f4-4ee4-b9dd-408c88783409",
   "metadata": {},
   "outputs": [],
   "source": []
  }
 ],
 "metadata": {
  "kernelspec": {
   "display_name": "Bash",
   "language": "bash",
   "name": "bash"
  },
  "language_info": {
   "codemirror_mode": "shell",
   "file_extension": ".sh",
   "mimetype": "text/x-sh",
   "name": "bash"
  }
 },
 "nbformat": 4,
 "nbformat_minor": 5
}
